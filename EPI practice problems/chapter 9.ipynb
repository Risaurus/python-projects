{
 "cells": [
  {
   "cell_type": "markdown",
   "id": "f1fd2d04",
   "metadata": {},
   "source": [
    "# Binary Trees"
   ]
  },
  {
   "cell_type": "code",
   "execution_count": null,
   "id": "8e769e52",
   "metadata": {},
   "outputs": [],
   "source": [
    "# Tree node prototype:\n",
    "class BinaryTreeNode:\n",
    "    def __init__(self, data=None, left=None, right=None):\n",
    "        self.data = data\n",
    "        self.left = left\n",
    "        self.right = right"
   ]
  },
  {
   "cell_type": "markdown",
   "id": "30d5e577",
   "metadata": {},
   "source": [
    "**Question 9.1**: Test if a Binary Tree is height-balanced"
   ]
  },
  {
   "cell_type": "code",
   "execution_count": null,
   "id": "7c0087fa",
   "metadata": {},
   "outputs": [],
   "source": [
    "\"\"\"Book solution\n",
    "    + review comments\n",
    "    \n",
    "Time complexity: O(n), same as postorder traversal with n being the number of nodes in tree\n",
    "Space complexity: O(h), h being the height of the tree\n",
    "\"\"\"\n",
    "def is_balanced_binary_tree(tree: BinaryTreeNode) -> bool:\n",
    "    # uses a namedtuple to keep track of two return values in one location\n",
    "    BalancedStatusWithheight = collections.namedtuple(\n",
    "        'BalancedStatusWithHeight', ('balanced', 'height'))\n",
    "    \n",
    "    # First value of the return value indicates if tree is balanced, and if\n",
    "    # balanced the second value of the return value is the height of tree.\n",
    "    def check_balanced(tree):\n",
    "        # If the tree is empty, it is automatically balanced with a negative\n",
    "        # height since there is no root.\n",
    "        if not tree:\n",
    "            return BalancedStatusWithheight(balanced=True, height=-1)\n",
    "        \n",
    "        # Post order recursion through the tree is performed.\n",
    "        # this left and right check will cancel the recursive check early if any\n",
    "        # unbalance is found in a subtree and return False\n",
    "        left_result = check_balanced(tree.left)\n",
    "        if not left_result.balanced:\n",
    "            return left_result\n",
    "        \n",
    "        right_result = check_balanced(tree.right)\n",
    "        if not right_result.balanced:\n",
    "            return right_result\n",
    "        \n",
    "        # Check if the heights of the left and right subtrees have a min diff of 1\n",
    "        is_balanced = abs(left_result.height - right_result.height) <= 1\n",
    "        # Calculates the height of the current node to return\n",
    "        height = max(left_result.height, right_result.height) + 1\n",
    "        return BalancedStatusWithheight(is_balanced, height)\n",
    "    \n",
    "    return check_balanced(tree).balanced"
   ]
  }
 ],
 "metadata": {
  "kernelspec": {
   "display_name": "Python 3 (ipykernel)",
   "language": "python",
   "name": "python3"
  },
  "language_info": {
   "codemirror_mode": {
    "name": "ipython",
    "version": 3
   },
   "file_extension": ".py",
   "mimetype": "text/x-python",
   "name": "python",
   "nbconvert_exporter": "python",
   "pygments_lexer": "ipython3",
   "version": "3.9.7"
  }
 },
 "nbformat": 4,
 "nbformat_minor": 5
}
