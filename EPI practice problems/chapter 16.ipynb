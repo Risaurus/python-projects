{
 "cells": [
  {
   "cell_type": "markdown",
   "id": "521e0baa",
   "metadata": {},
   "source": [
    "# Dynamic Programming"
   ]
  },
  {
   "cell_type": "markdown",
   "id": "04b21eae",
   "metadata": {},
   "source": [
    "**Question 16.1**: Count the number of score combinations"
   ]
  },
  {
   "cell_type": "code",
   "execution_count": null,
   "id": "bdcbbd3b",
   "metadata": {},
   "outputs": [],
   "source": [
    "'''\n",
    "Book Answer analysis\n",
    "    + reviewing comments\n",
    "\n",
    "'''\n",
    "\n",
    "def num_combinations_for_final_score(final_score: int,\n",
    "                                    individual_play_scores: list[int]) -> int:\n",
    "    # One way to reach 0.\n",
    "    num_combinations_for_score = [[1] + [0] * final_score\n",
    "                                 for _ in individual_play_scores]\n",
    "    # starts from combinations starting from lowest play score to highest to building upon\n",
    "    # the combination results\n",
    "    for i in range(len(individual_play_scores)):\n",
    "        for j in range(1, final_score + 1):\n",
    "            # finds the sum of prev play score combinations\n",
    "            without_this_play = (num_combinations_for_score[i - 1][j]\n",
    "                                if i >= 1 else 0)\n",
    "            # find combinations that can equal this result with current\n",
    "            # play score included\n",
    "            with_this_play = (\n",
    "                num_combinations_for_score[i][j - individual_play_scores[i]]\n",
    "                if j >= individual_play_scores[i] else 0)\n",
    "            # add the two results together\n",
    "            num_combinations_for_score[i][j] = (without_this_play \n",
    "                                                + with_this_play)\n",
    "    \n",
    "    # returns the total combinations found in bottom right cell of 2d list\n",
    "    return num_combinations_for_score[-1][-1]"
   ]
  },
  {
   "cell_type": "code",
   "execution_count": 1,
   "id": "43a9533d",
   "metadata": {},
   "outputs": [
    {
     "name": "stdout",
     "output_type": "stream",
     "text": [
      "[[1, 0, 0, 0, 0, 0, 0, 0, 0, 0, 0], [1, 0, 0, 0, 0, 0, 0, 0, 0, 0, 0], [1, 0, 0, 0, 0, 0, 0, 0, 0, 0, 0]]\n"
     ]
    }
   ],
   "source": [
    "plays = [1, 3, 4]\n",
    "testing = [[1] + [0] * 10 for _ in plays]\n",
    "print(testing)"
   ]
  },
  {
   "cell_type": "code",
   "execution_count": null,
   "id": "eb399d2a",
   "metadata": {},
   "outputs": [],
   "source": []
  }
 ],
 "metadata": {
  "kernelspec": {
   "display_name": "Python 3 (ipykernel)",
   "language": "python",
   "name": "python3"
  },
  "language_info": {
   "codemirror_mode": {
    "name": "ipython",
    "version": 3
   },
   "file_extension": ".py",
   "mimetype": "text/x-python",
   "name": "python",
   "nbconvert_exporter": "python",
   "pygments_lexer": "ipython3",
   "version": "3.9.7"
  }
 },
 "nbformat": 4,
 "nbformat_minor": 5
}
