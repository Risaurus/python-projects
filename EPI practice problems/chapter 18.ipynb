{
 "cells": [
  {
   "cell_type": "markdown",
   "id": "741723f2",
   "metadata": {},
   "source": [
    "# Graphs"
   ]
  },
  {
   "cell_type": "markdown",
   "id": "ddf28e02",
   "metadata": {},
   "source": [
    "**Questions 18.1**: Search a maze"
   ]
  },
  {
   "cell_type": "code",
   "execution_count": null,
   "id": "0a1f9f14",
   "metadata": {},
   "outputs": [],
   "source": [
    "'''\n",
    "Book Solution Analysis\n",
    "    + reviewing comments\n",
    "    \n",
    "Time Complexity: same as DFS, O(|V| + |E|)\n",
    "Space Complexity: O(n) where n is number of vertices as worst case\n",
    "'''\n",
    "import collections \n",
    "\n",
    "\n",
    "WHITE, BLACK = range(2) # iterates thru range and assigns respectively.\n",
    "\n",
    "Coordinate = collections.namedtuple('Coorindate', ('x', 'y'))\n",
    "\n",
    "\n",
    "def search_maze(maze: list[list[int]], s: Coordinate, \n",
    "               e: Coordinate) -> list[Coordinate]:\n",
    "    # Perform DFS to find a feasible path.\n",
    "    # BFS would've found the shortest path but that requires a queue implementation\n",
    "    # and the prompt did not ask for the shortest path\n",
    "    def search_maze_helper(cur):\n",
    "        # Checks cur(rent) is within maze and is a white pixel.\n",
    "        if not (0 <= cur.x < len(maze) and 0 <= cur.y < len(maze[cur.x])\n",
    "                and maze[cur.x][cur.y] == WHITE):\n",
    "            return false\n",
    "        path.append(cur) # add to stack to show we're currently checking this space in path\n",
    "        maze[cur.x][cur.y] = BLACK # change to black to avoid repetitive checks\n",
    "        if cur == e: # if cur is end coorindate\n",
    "            return True\n",
    "        \n",
    "        # checks if any surrounding pixel is white to continue path exploration\n",
    "        if any(\n",
    "                map(\n",
    "                    search_maze_helper, \n",
    "                    map(Coordinate, (cur.x - 1, cur.x + 1, cur.x, cur.x),\n",
    "                       (cur.y, cur.y, cur.y - 1, cur.y + 1)))):\n",
    "            return True\n",
    "        # Cannot find a path, remove the entry added in path.append(cur).\n",
    "        del path[-1]\n",
    "        return False\n",
    "    \n",
    "    path: list[Coordinate] = []\n",
    "    search_maze_helper(s)\n",
    "    return path"
   ]
  }
 ],
 "metadata": {
  "kernelspec": {
   "display_name": "Python 3 (ipykernel)",
   "language": "python",
   "name": "python3"
  },
  "language_info": {
   "codemirror_mode": {
    "name": "ipython",
    "version": 3
   },
   "file_extension": ".py",
   "mimetype": "text/x-python",
   "name": "python",
   "nbconvert_exporter": "python",
   "pygments_lexer": "ipython3",
   "version": "3.9.7"
  }
 },
 "nbformat": 4,
 "nbformat_minor": 5
}
