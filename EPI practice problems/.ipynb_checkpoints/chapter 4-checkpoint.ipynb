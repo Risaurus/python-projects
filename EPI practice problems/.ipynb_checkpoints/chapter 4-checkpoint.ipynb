{
 "cells": [
  {
   "cell_type": "markdown",
   "id": "b23228ab",
   "metadata": {},
   "source": [
    "# Primitive Types"
   ]
  },
  {
   "cell_type": "markdown",
   "id": "24c4ff8b",
   "metadata": {},
   "source": [
    "**Question 4.1**: Computing the parity of a word"
   ]
  },
  {
   "cell_type": "markdown",
   "id": "08ee43db",
   "metadata": {},
   "source": [
    "parity = 1 if number of 1s in word is odd, otherwise = 0\n",
    "ie: parity of 1011 is 1\n",
    "    parity of 10001000 is 0\n",
    "\n",
    "how would you compute the parity of a very large number of 64-bit words\n",
    "\n",
    "*hint*: Use a lookup table, but don't use 2^64 entries\n",
    "\n",
    "\n",
    "To deal with large data, we can break up the 64-bit word into sections of say 4 or 16. that way we're not checking every single bit. then we'd have a pre-computed hash table of every 16 bit combination with their resulting parity."
   ]
  },
  {
   "cell_type": "code",
   "execution_count": 1,
   "id": "6f3025fa",
   "metadata": {},
   "outputs": [],
   "source": [
    "# This assumes there's already a precomputed hash table\n",
    "# since it wouldn't be space or time efficient to create\n",
    "# a new table every time\n",
    "# PRECOMPUTED_PARITIES = {}\n",
    "def parity(x: int) -> int:\n",
    "    # this can be adjusted if the hash table as a different bit size precalculation\n",
    "    BIT_MASK = 0xFFFF\n",
    "    mask_size = 16\n",
    "    parity = 0\n",
    "    # use a while loop because we'll be shifting x until it = 0x0\n",
    "    while x:\n",
    "        temp = x & BIT_MASK\n",
    "        x >>= mask_size\n",
    "        parity ^= PRECOMPUTED_PARITIES[temp]\n",
    "        \n",
    "    return parity\n",
    "\n",
    "\"\"\"\n",
    "Time Complexity: O(n) worst case time complexity where n is the word size\n",
    "Space Complexity: If we ignore the precomputed hash (which is static size anyway) then O(1) as we're\n",
    "    reusing the space that the input already takes.\n",
    "\"\"\"\n",
    "\n",
    "\"\"\"\n",
    "Book version of essentially the same thing without the use of a while loop\n",
    "\"\"\"\n",
    "def parity(x: int) -> int:\n",
    "    mask_size = 16\n",
    "    bit_mask = 0xFFFF\n",
    "    return (PRECOMPUTED_PARITY[x >> (3 * mask_size)]\n",
    "           ^ PRECOMPUTED_PARITY[(x >> (2 * mask_size)) & bit_mask]\n",
    "           ^ PRECOMPUTED_PARITY[(x >> mask_size) & bit_mask]\n",
    "           ^ PRECOMPUTED_PARITY[x & bit_mask])"
   ]
  },
  {
   "cell_type": "code",
   "execution_count": 2,
   "id": "749f3b5f",
   "metadata": {},
   "outputs": [],
   "source": [
    "\"\"\"\n",
    "Book alt answer that doesn't use a table\n",
    "uses the logic that XOR a parity has the property of being associative and commutative\n",
    "    meaning both grouping and order doesn't matter. \n",
    "is: PARITY OF 11010111 = 1101 XOR 0111 = 1010 = 10 XOR 10 = 00 = 0 XOR 0 = 0\n",
    "\n",
    "Time complexity: O(logn) where n is the word size\n",
    "Space complexity: O(1)\n",
    "\"\"\"\n",
    "def parity(x: int) -> int:\n",
    "    x ^= x >> 32\n",
    "    x ^= x >> 16\n",
    "    x ^= x >> 8\n",
    "    x ^= x >> 4\n",
    "    x ^= x >> 2\n",
    "    x ^= x >> 1\n",
    "    return x & 0x1 # this makes the result either 1 or 0, binbool"
   ]
  },
  {
   "cell_type": "markdown",
   "id": "d9b9df99",
   "metadata": {},
   "source": [
    "**Question 4.7**: Computer pow(x,y)"
   ]
  },
  {
   "cell_type": "markdown",
   "id": "701332af",
   "metadata": {},
   "source": [
    "Write a program that takes a double x and an integer y and returns x^y. ignore overflow and underflow"
   ]
  },
  {
   "cell_type": "code",
   "execution_count": 3,
   "id": "15370c4d",
   "metadata": {},
   "outputs": [
    {
     "data": {
      "text/plain": [
       "'\\nTime complexity: O(y)\\nSpace complexity: O(1)\\n'"
      ]
     },
     "execution_count": 3,
     "metadata": {},
     "output_type": "execute_result"
    }
   ],
   "source": [
    "\"\"\"\n",
    "Pow is x multiplies by x, y amount of times so we could just use a loop...\n",
    "assuming y is nonnegative\n",
    "\"\"\"\n",
    "def pow(x: float, y: int) -> float:\n",
    "    if y == 0:\n",
    "        return 1 \n",
    "    \n",
    "    ans = 1\n",
    "    for i in range(y-1):\n",
    "        ans *= x\n",
    "    return ans\n",
    "\n",
    "\"\"\"\n",
    "Time complexity: O(y)\n",
    "Space complexity: O(1)\n",
    "\"\"\""
   ]
  },
  {
   "cell_type": "code",
   "execution_count": 4,
   "id": "3b143566",
   "metadata": {},
   "outputs": [],
   "source": [
    "\"\"\"\n",
    "The book simplifies the brute force algorithm by splitting y into smaller representations of itself\n",
    "    since x^(y+y) = x^y * x^y\n",
    "Taking this property into account, they convert y into its binary representation to apply this method\n",
    "    to general purposes. \n",
    "EXAMPLES OF CONCEPT IN BOOK\n",
    "\"\"\"\n",
    "def power(x: float, y: int) -> float:\n",
    "    result, power = 1.0, y\n",
    "    if y < 0:\n",
    "        # dealing with a negative power y\n",
    "        power, x = -power, 1.0/x\n",
    "    while power:\n",
    "        if power & 1:\n",
    "            # if power ends with a bit of 1 meaning it was divide\n",
    "            # evenly by 2 and therefore needs to separate an extra\n",
    "            # \"* x\" of the current result before exponentiating x\n",
    "            # again\n",
    "            result *= x\n",
    "        x, power = x * x, power >> 1\n",
    "    return result\n",
    "\n",
    "# Time complexity: O(n) time since multiplications is nearly double\n",
    "# that of the index of y's MSB"
   ]
  },
  {
   "cell_type": "code",
   "execution_count": null,
   "id": "994e4faa",
   "metadata": {},
   "outputs": [],
   "source": []
  }
 ],
 "metadata": {
  "kernelspec": {
   "display_name": "Python 3 (ipykernel)",
   "language": "python",
   "name": "python3"
  },
  "language_info": {
   "codemirror_mode": {
    "name": "ipython",
    "version": 3
   },
   "file_extension": ".py",
   "mimetype": "text/x-python",
   "name": "python",
   "nbconvert_exporter": "python",
   "pygments_lexer": "ipython3",
   "version": "3.9.7"
  }
 },
 "nbformat": 4,
 "nbformat_minor": 5
}
