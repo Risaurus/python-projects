{
 "cells": [
  {
   "cell_type": "markdown",
   "id": "1647e43c",
   "metadata": {},
   "source": [
    "# Arrays"
   ]
  },
  {
   "cell_type": "markdown",
   "id": "d03c105f",
   "metadata": {},
   "source": [
    "**Question 5.1**: The Dutch national flag problem"
   ]
  },
  {
   "cell_type": "markdown",
   "id": "96aeac09",
   "metadata": {},
   "source": [
    "Sort into 3 partitions using a pivot, similar to how the Dutch flag is separated into 3 colors.\n",
    "\n",
    "*example*:\n",
    "suppose A = <0, 1, 2, 0, 2, 1, 1> and pivot index is 3.\n",
    "    A[3] = 0 so <0, 0, 1, 2, 2, 1, 1>\n",
    "if the pivot index was 2 then,\n",
    "    A[2] = 2 so <0, 1, 0, 1, 1, 2, 2> or <0, 0, 1, 1, 1, 2, 2>\n",
    "\n",
    "so basically LESSTHAN before PIVOT DUPES followed by GREATERTHAN.\n",
    "\n",
    "If we aren't being space conscious, it'd be easy to create 3 new lists that'll be glued together\n",
    "to make the final partition and then iterate through the given array to populate those three\n",
    "lists. The time complexity would be O(n) since you'd only need to iterate through the array\n",
    "once and the space complexity would be O(n) as you'd be making a new array with the same amount\n",
    "of elements in the original.\n",
    "\n",
    "To improve upon that is to then shift the elements in the given array into the three desired\n",
    "partitions. To do that, I think pointers might be best. These pointers would show the boundaries\n",
    "of each parition: lessthan, pivot (and its dupes), and the greater than. These three pointers\n",
    "will also wrap around an extra section of unlabeled values. That way as the pointers are iterated\n",
    "down or up, two pointers will meet when the unknown section is exhausted.\n",
    "In our case, we'll have the unknown section be between the pivot pointer and the greater than pointer,\n",
    "which would have us putting the pivot in the beginning of the array to start and then the greater thans\n",
    "at the end."
   ]
  },
  {
   "cell_type": "code",
   "execution_count": 2,
   "id": "1bd0e68a",
   "metadata": {},
   "outputs": [],
   "source": [
    "def dutch_flag_partition(A: list[int], pivot: int) -> None:\n",
    "    # specifically, less will be the first occurrence of the pivot\n",
    "    # greater will be the end of the unknown section\n",
    "    # pivot will be the first value in the unknown section\n",
    "    less, greater = 0, len(A)-1\n",
    "    x = A[pivot]\n",
    "    A[less], A[pivot] = A[pivot], A[less]\n",
    "    while greater >= pivot:\n",
    "        if A[greater] == x:\n",
    "            A[greater], A[pivot] = A[pivot], A[greater]\n",
    "            pivot += 1\n",
    "        elif A[greater] < x:\n",
    "            A[pivot], A[less] = A[less], A[pivot]\n",
    "            A[greater], A[less] = A[less], A[greater]\n",
    "            less, pivot = less + 1, pivot + 1\n",
    "        else:\n",
    "            greater -= 1\n",
    "            \n",
    "# time complexity: O(n), n being the length of A\n",
    "# space complexity: O(1)"
   ]
  },
  {
   "cell_type": "markdown",
   "id": "799e0f2c",
   "metadata": {},
   "source": [
    "Book holds a similar answer. The only change is that the unknown variable being switched is the first\n",
    "element in that section rather than the last, which eliminates one switch in the the unknown being\n",
    "less than x."
   ]
  },
  {
   "cell_type": "markdown",
   "id": "28e1c911",
   "metadata": {},
   "source": [
    "**Question 5.6**: Buy and sell a stock once"
   ]
  },
  {
   "cell_type": "markdown",
   "id": "345dc6d0",
   "metadata": {},
   "source": [
    "To brute force this, you just compare an index with each of the following indicies to find the highest profit for an O(n^2) time complexity.\n",
    "\n",
    "If we want an O(n) time complexity, you could use a variables to keep track of values as you iterate\n",
    "through the stock prices.\n",
    "Because you want a lower buy price than the sell price, the buy price or low number will always be\n",
    "earlier in the list. Therefore, to find the biggest difference, you keep track of the lowest buy price and\n",
    "compare with the current index in the stock list. If that index is lower, replace the lowest buy price and continue.\n",
    "If the profit is greater than previously, replace the profit before continuing."
   ]
  },
  {
   "cell_type": "code",
   "execution_count": 3,
   "id": "7c5db0bc",
   "metadata": {},
   "outputs": [],
   "source": [
    "# assumes that the prices are ints. can easily replace int with float\n",
    "def buy_and_sell_stock(A: list[int]) -> int:\n",
    "    profit, low = 0, A[0]\n",
    "    \n",
    "    for price in A:\n",
    "        if price < low:\n",
    "            low = price\n",
    "        profit = max(profit, price - low)\n",
    "    \n",
    "    return profit"
   ]
  },
  {
   "cell_type": "code",
   "execution_count": 1,
   "id": "14cce8c8",
   "metadata": {},
   "outputs": [],
   "source": [
    "# Book Answer\n",
    "# uses float instead of int\n",
    "def buy_and_sell_stock_once(prices: list[float]) -> float:\n",
    "    min_price_so_far, max_profit = float('inf'), 0.0\n",
    "    for price in prices:\n",
    "        # instead of a conditional statement, this just goes ahead\n",
    "        # and calculates the profit\n",
    "        max_profit_sell_today = price - min_price_so_far\n",
    "        max_profit = max(max_profit, max_profit_sell_today)\n",
    "        min_price_so_far = min(min_price_so_far, price)\n",
    "    return max_profit"
   ]
  },
  {
   "cell_type": "markdown",
   "id": "2a6a2cc5",
   "metadata": {},
   "source": [
    "**Question 5.12**: Sample offline data"
   ]
  },
  {
   "cell_type": "markdown",
   "id": "1a0abba7",
   "metadata": {},
   "source": [
    "So you get an array of distinct elements and size and must return a subset of the given size of the array elements.\n",
    "All subsets should be equally likely, return result in input array itself.\n",
    "\n",
    "My first thought is using a random generator to pick an index in the array to add to the subset. By placing the\n",
    "selected value in the front of the array, we can keep track of how many have been picked up and pick from the\n",
    "remaining indicies until k amount of elements are picked."
   ]
  },
  {
   "cell_type": "code",
   "execution_count": 5,
   "id": "7b85e125",
   "metadata": {},
   "outputs": [],
   "source": [
    "import random\n",
    "\n",
    "def sample_data(A: list[int], k: int) -> None:\n",
    "    for i in range(k):\n",
    "        j = randint(i, len(A)-1)\n",
    "        A[i], A[j] = A[j], A[i]\n",
    "\n",
    "# time complexity: O(k) since random sort is O(1) and we only need to choose k values\n",
    "# space complexity: O(1) as we use the original array to store the answer."
   ]
  },
  {
   "cell_type": "markdown",
   "id": "b156c7ab",
   "metadata": {},
   "source": [
    "**Question 5.18**: Compute the spiral ordering of a 2D array"
   ]
  },
  {
   "cell_type": "markdown",
   "id": "0fe415eb",
   "metadata": {},
   "source": [
    "Write a program that takes an n x n 2D array and returns the spiral ordering of the array.\n",
    "*hint*: Use case analysis and divide-and-conquer\n",
    "\n",
    "Look at the diagram (provided in the book) some patterns stand out. Aside from the first line in the spiral, which is always across row0, each sequential line is that row length - 1 twice before decreasing by length again. There's also an alternating pattern of row then col then row then col. Because of these patterns, a recursive solution can be found. A separate list can keep track of each element passed which'll give us the list that'll be returned."
   ]
  },
  {
   "cell_type": "code",
   "execution_count": 7,
   "id": "73bf79ec",
   "metadata": {},
   "outputs": [],
   "source": [
    "def spiral_ordering(square: list[list[int]]) -> list[int]:\n",
    "    spiral = []\n",
    "    \n",
    "    # the recursive method that'll go along each edge of the spiral\n",
    "    def edge(row: int, col: int, l: int, direction: int) -> None:\n",
    "        # direction determines if we're going across a row or col\n",
    "        #     up or down\n",
    "        # l is the length of the edge\n",
    "        # row and col holds the last location placed in spiral\n",
    "        \n",
    "        for i in range(l):\n",
    "            if direction == 0: # down col\n",
    "                row += 1\n",
    "            elif direction == 1: # left row\n",
    "                col -= 1\n",
    "            elif direction == 2: # up col\n",
    "                row -= 1\n",
    "            else: # direction == 3 or right row\n",
    "                col += 1\n",
    "            spiral.append(square[row][col])\n",
    "        \n",
    "        if direction == 0 or direction == 2:\n",
    "            l -= 1\n",
    "        if len(spiral) != len(square)**2: # continue spiraling\n",
    "            edge(row, col, l, (direction + 1)%4)\n",
    "    \n",
    "    l = len(square)\n",
    "    row, col = 0, -1\n",
    "    for i in range(l):\n",
    "        col += 1\n",
    "        spiral.append(square[row][col])\n",
    "    edge(row, col, l, 0)\n",
    "    \n",
    "    return spiral\n",
    "\n",
    "# Time Complexity: We go through every element of the array so O(n) of n elements\n",
    "#                  then we add the amount of recursive calls which is O(2k-1) where\n",
    "#                  k is the length of the square's row or O(k) simplified.\n",
    "#                  Together that makes a time of O(n+k)\n",
    "# Space Complexity: O(n) for the list that holds the spiral sequence of the 2d array."
   ]
  },
  {
   "cell_type": "markdown",
   "id": "d5abe2d7",
   "metadata": {},
   "source": [
    "The book presents two slightly different solutions and also calculates the time complexity as O(n^2) for n being the length of the square's side.\n",
    "The first solution provided is also a recursive solution but instead of recursiving for every edge, they do it for every outer square not yet added to the list.\n",
    "The second solution is similar to mine where edges are traversed, but the difference is that they didn't implement recursive calls like I did. Therefore, it has a improved time complexity as the stacked recursive calls aren't added in.\n",
    "\n",
    "Second solution before for direct comparisons."
   ]
  },
  {
   "cell_type": "code",
   "execution_count": 8,
   "id": "9a852e96",
   "metadata": {},
   "outputs": [],
   "source": [
    "def matrix_in_spiral_order(square_matrix: list[list[int]]) -> list[int]:\n",
    "    # using immutable set to keep track of directions is a nice way of\n",
    "    # simplifying which way we're traversing the square without a bunch\n",
    "    # of conditional statements\n",
    "    shift = ((0, 1), (1, 0), (0, -1), (-1, 0))\n",
    "    direction = x = y = 0\n",
    "    spiral_ordering = []\n",
    "    \n",
    "    for _ in range(len(square_matrix)**2):\n",
    "        spiral_ordering.append(square_matrix[x][y])\n",
    "        square_matrix[x][y] = 0 # I'm not sure why this is added. maybe cleanup?\n",
    "        next_x, next_y = x + shift[direction][0], y + shift[direction][1]\n",
    "        if (next_x not in range(len(square_matrix))\n",
    "               or next_y not in range(len(square_matrix))\n",
    "               or square_matrix[next_x][next_y] == 0): # oh it's for collision control\n",
    "            direction = (direction + 1) & 3\n",
    "            next_x, next_y = x + shift[direction][0], y + shift[direction][1]\n",
    "        x, y = next_x, next_y\n",
    "    return spiral_ordering"
   ]
  },
  {
   "cell_type": "code",
   "execution_count": null,
   "id": "a2e63fc7",
   "metadata": {},
   "outputs": [],
   "source": []
  }
 ],
 "metadata": {
  "kernelspec": {
   "display_name": "Python 3 (ipykernel)",
   "language": "python",
   "name": "python3"
  },
  "language_info": {
   "codemirror_mode": {
    "name": "ipython",
    "version": 3
   },
   "file_extension": ".py",
   "mimetype": "text/x-python",
   "name": "python",
   "nbconvert_exporter": "python",
   "pygments_lexer": "ipython3",
   "version": "3.9.7"
  }
 },
 "nbformat": 4,
 "nbformat_minor": 5
}
