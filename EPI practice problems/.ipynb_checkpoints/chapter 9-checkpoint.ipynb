{
 "cells": [
  {
   "cell_type": "markdown",
   "id": "f1fd2d04",
   "metadata": {},
   "source": [
    "# Binary Trees"
   ]
  },
  {
   "cell_type": "code",
   "execution_count": 1,
   "id": "8e769e52",
   "metadata": {},
   "outputs": [],
   "source": [
    "# Tree node prototype:\n",
    "class BinaryTreeNode:\n",
    "    def __init__(self, data=None, left=None, right=None):\n",
    "        self.data = data\n",
    "        self.left = left\n",
    "        self.right = right"
   ]
  },
  {
   "cell_type": "markdown",
   "id": "30d5e577",
   "metadata": {},
   "source": [
    "**Question 9.1**: Test if a Binary Tree is height-balanced"
   ]
  },
  {
   "cell_type": "code",
   "execution_count": null,
   "id": "7c0087fa",
   "metadata": {},
   "outputs": [],
   "source": [
    "\"\"\"Book solution\n",
    "    + review comments\n",
    "    \n",
    "Time complexity: O(n), same as postorder traversal with n being the number of nodes in tree\n",
    "Space complexity: O(h), h being the height of the tree\n",
    "\"\"\"\n",
    "def is_balanced_binary_tree(tree: BinaryTreeNode) -> bool:\n",
    "    # uses a namedtuple to keep track of two return values in one location\n",
    "    BalancedStatusWithheight = collections.namedtuple(\n",
    "        'BalancedStatusWithHeight', ('balanced', 'height'))\n",
    "    \n",
    "    # First value of the return value indicates if tree is balanced, and if\n",
    "    # balanced the second value of the return value is the height of tree.\n",
    "    def check_balanced(tree):\n",
    "        # If the tree is empty, it is automatically balanced with a negative\n",
    "        # height since there is no root.\n",
    "        if not tree:\n",
    "            return BalancedStatusWithheight(balanced=True, height=-1)\n",
    "        \n",
    "        # Post order recursion through the tree is performed.\n",
    "        # this left and right check will cancel the recursive check early if any\n",
    "        # unbalance is found in a subtree and return False\n",
    "        left_result = check_balanced(tree.left)\n",
    "        if not left_result.balanced:\n",
    "            return left_result\n",
    "        \n",
    "        right_result = check_balanced(tree.right)\n",
    "        if not right_result.balanced:\n",
    "            return right_result\n",
    "        \n",
    "        # Check if the heights of the left and right subtrees have a min diff of 1\n",
    "        is_balanced = abs(left_result.height - right_result.height) <= 1\n",
    "        # Calculates the height of the current node to return\n",
    "        height = max(left_result.height, right_result.height) + 1\n",
    "        return BalancedStatusWithheight(is_balanced, height)\n",
    "    \n",
    "    return check_balanced(tree).balanced"
   ]
  },
  {
   "cell_type": "markdown",
   "id": "0ae06797",
   "metadata": {},
   "source": [
    "**Question 9.4**: Compute the LCA when nodes have parent pointers"
   ]
  },
  {
   "cell_type": "markdown",
   "id": "fd745d5a",
   "metadata": {},
   "source": [
    "Given two nodes in a binary tree, design an algorithm that computes their LCA (lowest common ancestor). Assumes each node has a parent pointer.\n",
    "\n",
    "*hint*: The problem is easy if both nodes are the same distance from the root.\n",
    "\n",
    "If we don't mind using space, this can be made easy by slowly traveling up the two node's parent lineage at the same time. If they're the same, it returns that node. If they are different, we'll have two sets that'll keep track of visited nodes for each lineage. If a match is found, that node is returned.\n",
    "If both reach a null pointer and that root isn't the same, they're not in the same tree.\n",
    "\n",
    "- Time: O(h) where h is the height of the tree (since that's worst case LCA).\n",
    "- Space: O(h) the path up the tree that's saved for each node."
   ]
  },
  {
   "cell_type": "code",
   "execution_count": 6,
   "id": "94c6c75a",
   "metadata": {},
   "outputs": [],
   "source": [
    "class BTN_with_parent:\n",
    "    def __init__(self, data=None, left=None, right=None, parent=None):\n",
    "        self.data = data\n",
    "        self.left = left\n",
    "        self.right = right\n",
    "        self.parent = parent\n",
    "        \n",
    "        \n",
    "def lowest_common_ancestor(n1: BTN_with_parent, n2: BTN_with_parent):\n",
    "    if n1 == n2:\n",
    "        return n1\n",
    "    \n",
    "    n1_path, n2_path = [], []\n",
    "    while n1 or n2:\n",
    "        if n1:\n",
    "            n1_path.append(n1)\n",
    "            n1 = n1.parent\n",
    "        if n2:\n",
    "            n2_path.append(n2)\n",
    "            n2 = n2.parent\n",
    "        \n",
    "        if n1 == n2 or n1 in n2_path:\n",
    "            return n1\n",
    "        if n2 in n1_path:\n",
    "            return n2\n",
    "    return None"
   ]
  },
  {
   "cell_type": "markdown",
   "id": "128c1d22",
   "metadata": {},
   "source": [
    "This is essentially the brute force method according to the book. The more optimal method has the same time complexity but a better space complexity of O(1)\n",
    "\n",
    "To achieve the better space complexity, we get rid of the issue that they might be at different heights by ascending the height of the lower node to match the heigher. From there, the two nodes climb up the tree and reach the LCA at the same time."
   ]
  },
  {
   "cell_type": "code",
   "execution_count": 7,
   "id": "4340f9a5",
   "metadata": {},
   "outputs": [],
   "source": [
    "def lca(node0: BTN_with_parent, node1: BTN_with_parent) -> BTN_with_parent:\n",
    "    def get_depth(node):\n",
    "        depth = 0\n",
    "        while node.parent:\n",
    "            depth += 1\n",
    "            node = node.parent\n",
    "        return depth\n",
    "    \n",
    "    depth0, depth1 = map(get_depth, (node0, node1))\n",
    "    if depth1 > depth0:\n",
    "        node0, node1 = node1, node0\n",
    "        \n",
    "    diff = abs(depth1 - depth0)\n",
    "    while diff:\n",
    "        node0 = node0.parent\n",
    "        diff -= 1\n",
    "        \n",
    "    while node0 is not node1:\n",
    "        node0, node1 = node0.parent, node1.parent\n",
    "        \n",
    "    return node0"
   ]
  }
 ],
 "metadata": {
  "kernelspec": {
   "display_name": "Python 3 (ipykernel)",
   "language": "python",
   "name": "python3"
  },
  "language_info": {
   "codemirror_mode": {
    "name": "ipython",
    "version": 3
   },
   "file_extension": ".py",
   "mimetype": "text/x-python",
   "name": "python",
   "nbconvert_exporter": "python",
   "pygments_lexer": "ipython3",
   "version": "3.9.7"
  }
 },
 "nbformat": 4,
 "nbformat_minor": 5
}
