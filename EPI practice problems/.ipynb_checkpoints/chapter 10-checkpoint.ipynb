{
 "cells": [
  {
   "cell_type": "markdown",
   "id": "9eaf47af",
   "metadata": {},
   "source": [
    "# Heaps"
   ]
  },
  {
   "cell_type": "markdown",
   "id": "73f717e2",
   "metadata": {},
   "source": [
    "**Question 10.1**: Merge sorted files"
   ]
  },
  {
   "cell_type": "code",
   "execution_count": null,
   "id": "af25571e",
   "metadata": {},
   "outputs": [],
   "source": [
    "\"\"\"Book solution\n",
    "    + review comments\n",
    "    \n",
    "Time complexity: O(nlogk) with k being the number of input sequences.\n",
    "    extract-min and insert take O(logk) time\n",
    "    n is the total number of elements\n",
    "Space complexity: O(k) beyond the space needed to write the result array\n",
    "\"\"\"\n",
    "\n",
    "def merge_sorted_arrays(sorted_arrays: List[List[int]]) -> List[int]:\n",
    "    min_heap: List[Tuple[int, int]] = []\n",
    "    # Builds a list of iterators for each array in sorted_arrays.\n",
    "    #   this way you can avoid having to merge the arrays which'll\n",
    "    #   take up more time\n",
    "    sorted_arrays_iters = [iter(x) for x in sorted_arrays]\n",
    "    \n",
    "    # Puts first element from each iterator in min_heap.\n",
    "    for i, it in enumerate(sorted_arrays_iters):\n",
    "        first_element = next(it, None)\n",
    "        if first_element is not None:\n",
    "            heapq.heappush(min_heap, (first_element, i))\n",
    "    # only the first element is important because the arrays are\n",
    "    # already sorted so the first is the lowest\n",
    "    \n",
    "    # then with the heap made:\n",
    "    #   pop the min value\n",
    "    #   insert lowest value in result array and iter the popped list\n",
    "    #      in sorted_array_iters\n",
    "    #   insert the new head value of the list back into heap\n",
    "    #   repeat until all values are iter'd and popped\n",
    "    result = []\n",
    "    while min_heap:\n",
    "        smallest_entry, smallest_array_i = heapq.heappop(min_heap)\n",
    "        smallest_array_iter = sorted_arrays_iters[smallest_array_i]\n",
    "        result.append(smallest_entry)\n",
    "        next_element = next(smallest_array_iter, None)\n",
    "        if next_element is not None:\n",
    "            heapq.heappush(min_heap, (next_element, smallest_array_i))\n",
    "    return result\n",
    "\n",
    "\n",
    "# Pythonic solution, uses the heapq.merge() method which takes multiple inputs.\n",
    "def merge_sorted_arrays_pythonic(sorted_arrays):\n",
    "    return list(heapq.merge(*sorted_arrays))"
   ]
  },
  {
   "cell_type": "markdown",
   "id": "17162921",
   "metadata": {},
   "source": [
    "**Question 10.4**: Compute the *k* closest stars"
   ]
  },
  {
   "cell_type": "markdown",
   "id": "76999948",
   "metadata": {},
   "source": [
    "Consider coordinate system for the Milky Way and Earth is at (0, 0, 0). Stars are modeled as points and assume distances are in light years. Milky way consists of approximately 10^12 stars.\n",
    "\n",
    "How would you compute the k stars which are closest to Earth?\n",
    "\n",
    "*Hint*: Suppose you know the k closest stars in the first n stars. If the (n+1)th star to be added to the set of k closest stars, which element in that set should be evicted?\n",
    "\n",
    "If we want to keep track of k elements where the top element is always available for us, we'd use a heap. In this case, because we want to keep the closest k planets to Earth, we'd have a max heap where the furthest away from Earth is removeable (so we always keep the closest). \n",
    "Even new planet we get the distance for, we'll push into the heap and then pop the new furthest planet so we'll always have only k planets in the heap.\n",
    "\n",
    "- Time: O(nlogk) where k is the number of planets that'll always be in the heap and n is the total number of planets being compared\n",
    "- Space: O(k) "
   ]
  },
  {
   "cell_type": "code",
   "execution_count": 1,
   "id": "614be2ec",
   "metadata": {},
   "outputs": [],
   "source": [
    "import math\n",
    "\n",
    "def k_closest_stars(k: int, stars: list[tuple[int,int,int]]) -> list[tuple[int, int]]:\n",
    "    # assumes there's at least k stars\n",
    "    max_heap: list[tuple[int, int]] = []\n",
    "    earth = [0, 0, 0]\n",
    "    for i in range(k):\n",
    "        d = math.dist(earth, stars[i]) * -1\n",
    "        heapq.heappush(max_heap, (d, i))\n",
    "        \n",
    "    # we now have a heap of the first k stars which are currently the closest 10\n",
    "    # now we check the rest of the stars to see if any of them are closer than the\n",
    "    # current max.\n",
    "    for i in range(k, len(stars)):\n",
    "        d = math.dist(earth, stars[i]) * -1\n",
    "        heapq.heappushpop(max_heap, (d, i))\n",
    "    \n",
    "    # now we should have the top k elements in our heap. \n",
    "    # maxheap holds (-dist from earth, index i in star list)\n",
    "    return max_heap"
   ]
  },
  {
   "cell_type": "markdown",
   "id": "5495c3ed",
   "metadata": {},
   "source": [
    "The book solution has the same idea of using a max heap but they optimize the code further by negating the need for tuples by creating a star class that has an inherent comparable distance that can be used to compare in maxheap.\n",
    "\n",
    "code below:"
   ]
  },
  {
   "cell_type": "code",
   "execution_count": 4,
   "id": "b9726887",
   "metadata": {},
   "outputs": [],
   "source": [
    "class Star:\n",
    "    def __init__(self, x: float, y: float, z: float) -> None:\n",
    "        self.x, self.y, self.z = x, y, z\n",
    "        \n",
    "    @property\n",
    "    def distance(self) -> float:\n",
    "        return math.sqrt(self.x**2 + self.y**2 + self.z**2)\n",
    "    \n",
    "    def __lt__(self, rhs: 'Star') -> bool:\n",
    "        return self.distance < rhs.distance\n",
    "    \n",
    "\n",
    "\n",
    "def find_closest_k_stars(star: list[Star], k: int) -> list[Star]:\n",
    "    # max_heap to store the closest k stars seen so far.\n",
    "    max_heap: list[Tuple[float, Star]] = []\n",
    "    for star in stars:\n",
    "        # Add each star to the max-heap. If the max-heap size exceeds k, remove\n",
    "        # the maximum element from the max-heap\n",
    "        # As python has only min-heap, insert tuple (negative of distance, star)\n",
    "        # to sort in reverse distance order.\n",
    "        heapq.heappush(max_heap, (-star.distance, star))\n",
    "        if len(max_heap) == k + 1:\n",
    "            heapq.heappop(max_heap)\n",
    "            \n",
    "    # Iteratively extract from the max-heap, which yields the stars sorted\n",
    "    # according from furthest to closest.\n",
    "    return [s[1] for s in heapq.nlargest(k, max_heap)]"
   ]
  },
  {
   "cell_type": "code",
   "execution_count": null,
   "id": "afa336f4",
   "metadata": {},
   "outputs": [],
   "source": []
  }
 ],
 "metadata": {
  "kernelspec": {
   "display_name": "Python 3 (ipykernel)",
   "language": "python",
   "name": "python3"
  },
  "language_info": {
   "codemirror_mode": {
    "name": "ipython",
    "version": 3
   },
   "file_extension": ".py",
   "mimetype": "text/x-python",
   "name": "python",
   "nbconvert_exporter": "python",
   "pygments_lexer": "ipython3",
   "version": "3.9.7"
  }
 },
 "nbformat": 4,
 "nbformat_minor": 5
}
