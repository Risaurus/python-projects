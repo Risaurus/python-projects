{
 "cells": [
  {
   "cell_type": "markdown",
   "id": "35312904",
   "metadata": {},
   "source": [
    "# Searching"
   ]
  },
  {
   "cell_type": "markdown",
   "id": "afac7a63",
   "metadata": {},
   "source": [
    "### Binary Search"
   ]
  },
  {
   "cell_type": "code",
   "execution_count": null,
   "id": "7aaa7dd5",
   "metadata": {},
   "outputs": [],
   "source": [
    "\"\"\"Example in book that shows how one can do binary search\n",
    "    in which ties are broken using a secondary value of\n",
    "    possibly a diff value type.\n",
    "This is done by using a library binary search routine\n",
    "\n",
    "Time Complexity: O(logn), assuming i-th element in sequence \n",
    "    can be accessed in O(1) time\n",
    "\"\"\"\n",
    "\n",
    "Student = collections.namedtuple('Student', ('name', 'grade_point_average'))\n",
    "\n",
    "\n",
    "def comp_gpa(student: Student) -> Tuple[float, str]:\n",
    "    return (-student.grade_point_average, student.name)\n",
    "\n",
    "\n",
    "def search_student(students: List[Student], target: Student,\n",
    "                  comp_gpa: Callable[[Student], Tuple[float, str]]):\n",
    "    i = bisect.bisect_left([comp_gpa(s) for s in students], comp_gpa(target))\n",
    "    return 0 <= i < len(students) and students[i] == target"
   ]
  },
  {
   "cell_type": "markdown",
   "id": "8fa6b2fd",
   "metadata": {},
   "source": [
    "**Question 11.1**: Search a sorted array for first occurrence of k"
   ]
  },
  {
   "cell_type": "code",
   "execution_count": 2,
   "id": "38f738c1",
   "metadata": {},
   "outputs": [],
   "source": [
    "\"\"\"\n",
    "Time Complexity: O(logn), n being number of entries in list\n",
    "Space Complexity: O(1) since we're not using any extra space\n",
    "\"\"\"\n",
    "\n",
    "def first_occurrence(A: list[int], k: int) -> int:\n",
    "    i = -1\n",
    "    L, U = 0, len(A)-1\n",
    "    # L = lower, U = upper, M = middle, i = returned index\n",
    "    \n",
    "    while L <= U:\n",
    "        M = L + ((U - L) // 2)\n",
    "        if A[M] > k:\n",
    "            U = M - 1\n",
    "        elif A[M] == k:\n",
    "            i = M\n",
    "            # Change upper so we're always looking for an occurrence of k before\n",
    "            # current index\n",
    "            U = M - 1\n",
    "        else:\n",
    "            L = M + 1\n",
    "    return i"
   ]
  },
  {
   "cell_type": "code",
   "execution_count": 3,
   "id": "d98d4f1f",
   "metadata": {},
   "outputs": [],
   "source": [
    "test = [-14, -10, 2, 108, 108, 243, 285, 285, 401]"
   ]
  },
  {
   "cell_type": "code",
   "execution_count": 4,
   "id": "3d409612",
   "metadata": {},
   "outputs": [
    {
     "data": {
      "text/plain": [
       "3"
      ]
     },
     "execution_count": 4,
     "metadata": {},
     "output_type": "execute_result"
    }
   ],
   "source": [
    "first_occurrence(test, 108)"
   ]
  },
  {
   "cell_type": "code",
   "execution_count": 5,
   "id": "4197ce02",
   "metadata": {},
   "outputs": [
    {
     "data": {
      "text/plain": [
       "6"
      ]
     },
     "execution_count": 5,
     "metadata": {},
     "output_type": "execute_result"
    }
   ],
   "source": [
    "first_occurrence(test, 285)"
   ]
  },
  {
   "cell_type": "code",
   "execution_count": 7,
   "id": "3e619d12",
   "metadata": {},
   "outputs": [
    {
     "data": {
      "text/plain": [
       "3"
      ]
     },
     "execution_count": 7,
     "metadata": {},
     "output_type": "execute_result"
    }
   ],
   "source": [
    "import bisect\n",
    "bisect.bisect_left(test, 108)"
   ]
  },
  {
   "cell_type": "code",
   "execution_count": 8,
   "id": "7903c2cd",
   "metadata": {},
   "outputs": [
    {
     "data": {
      "text/plain": [
       "6"
      ]
     },
     "execution_count": 8,
     "metadata": {},
     "output_type": "execute_result"
    }
   ],
   "source": [
    "bisect.bisect_left(test, 285)"
   ]
  },
  {
   "cell_type": "markdown",
   "id": "b7da59ba",
   "metadata": {},
   "source": [
    "**Question 11.4**: Compute the integer square root"
   ]
  },
  {
   "cell_type": "markdown",
   "id": "5c20c500",
   "metadata": {},
   "source": [
    "Program that takes a nonnegative integer and returns the largest integer whose square is less than or equal to the given integer.\n",
    "\n",
    "i.e: input is 16, return 4; input 300, return 17 since 17^2 = 289 < 300 and 18^2 = 324 > 300\n",
    "\n",
    "*Hint*: Look out for a corner-case\n",
    "\n",
    "Since the squareroot of a result can't be a number greater than the result, we can do a binary search between 0 and the result n. By squaring the midpoint and the midpoint + 1, we can see which is closer and decide if we need to search higher or lower from that midpoint. The result we're looking for is when the midpoint^2 < target and (midpoint+1)^2 is > target. But including the target in the range, we include corner cases like target = 0 or target = 1.\n",
    "\n",
    "- Time: O(logn) where n is the target number\n",
    "- Space: O(1)"
   ]
  },
  {
   "cell_type": "code",
   "execution_count": 1,
   "id": "495a0b6e",
   "metadata": {},
   "outputs": [],
   "source": [
    "def find_square_root(target: int) -> int:\n",
    "    l, u = 0, target\n",
    "    while l <= u:\n",
    "        m = u - ((u - l)//2)\n",
    "        if (m**2 <= target) and ((m + 1)**2 > target):\n",
    "            return m\n",
    "        if m**2 > target:\n",
    "            u = m - 1\n",
    "        else:\n",
    "            l = m + 1\n",
    "    return l-1"
   ]
  },
  {
   "cell_type": "code",
   "execution_count": 2,
   "id": "12086419",
   "metadata": {},
   "outputs": [
    {
     "data": {
      "text/plain": [
       "17"
      ]
     },
     "execution_count": 2,
     "metadata": {},
     "output_type": "execute_result"
    }
   ],
   "source": [
    "find_square_root(300)"
   ]
  },
  {
   "cell_type": "code",
   "execution_count": 3,
   "id": "6c4e29a2",
   "metadata": {},
   "outputs": [
    {
     "data": {
      "text/plain": [
       "4"
      ]
     },
     "execution_count": 3,
     "metadata": {},
     "output_type": "execute_result"
    }
   ],
   "source": [
    "find_square_root(16)"
   ]
  },
  {
   "cell_type": "code",
   "execution_count": 4,
   "id": "f870798a",
   "metadata": {},
   "outputs": [
    {
     "data": {
      "text/plain": [
       "0"
      ]
     },
     "execution_count": 4,
     "metadata": {},
     "output_type": "execute_result"
    }
   ],
   "source": [
    "find_square_root(0)"
   ]
  },
  {
   "cell_type": "markdown",
   "id": "507427bb",
   "metadata": {},
   "source": [
    "**Question 11.8**: Find the kth largest element"
   ]
  },
  {
   "cell_type": "markdown",
   "id": "9543fd78",
   "metadata": {},
   "source": [
    "To find the k largest element in an unsorted array, the brute force approach would just be sorting the whole array before selecting the -k element in the array. But this is a waste of time since we don't need the whole array sorted.\n",
    "\n",
    "Another method is using a heap of greatest k elements (for O(nlogk) time) but this requires the extra space to hold the heap.\n",
    "\n",
    "An in place binary search would then use a random pivot to partition the array. This pivot becomes key in finding k as the pivot  becomes the xth largest element depending on how many items end up being greater than it. if there are exactly k-1 elements greater than the pivot, the pivot is the kth largest element. If more than k-1 elements, it is less than k and the parition below the pivot can be dropped. if there are less than k-1 elements, it is smaller than k and the greater partition can be dropped. \n",
    "\n",
    "- time: T(n) == O(n) with the expectation that on average, half the elements will be reduced each iteration. Worst case is O(n^2) where an edge pivot is picked every time.\n",
    "- space: O(1) since the partitioning is happening in place."
   ]
  },
  {
   "cell_type": "code",
   "execution_count": 5,
   "id": "62f39824",
   "metadata": {},
   "outputs": [],
   "source": [
    "# Book solution\n",
    "\n",
    "# The numbering starts from one, i.e., if A = [3, 1, -1, 2]\n",
    "# find_kth_largest(1, A) returns 3, find kth_largest(2, A) returns 2,\n",
    "# find_kth_largest(3, A) returns 1, and find_kth_largest(4, A) returns -1.\n",
    "def find_kth_largest(k: int, A: list[int]) -> int:\n",
    "    def find_kth(comp):\n",
    "        # Partition A[left:right + 1] around pivot_idx, returns the new index of\n",
    "        # the pivot, new_pivot_idx, after partition. After partitioning,\n",
    "        # A[left:new_pivot_idx] contains elements that are \"greater than\" the\n",
    "        # pivot, and A[new_pivot_idx + 1:right + 1] contains elements that are\n",
    "        # \"less than\" the pivot.\n",
    "        #\n",
    "        # Note: \"greater than\" and \"less than\" are defined by the comp object.\n",
    "        #\n",
    "        # Returns the new index of the pivot element after partition.\n",
    "        def partition_around_pivot(left, right, pivot_idx):\n",
    "            pivot_value = A[pivot_idx]\n",
    "            new_pivot_idx = left\n",
    "            A[pivot_idx], A[right] = A[right], A[pivot_idx]\n",
    "            for i in range(left, right):\n",
    "                if comp(A[i], pivot_value):\n",
    "                    A[i], A[new_pivot_idx] = A[new_pivot_idx], A[i]\n",
    "                    new_pivot_idx += 1\n",
    "            A[right], A[new_pivot_idx] = A[new_pivot_idx], A[right]\n",
    "            return new_pivot_idx\n",
    "        \n",
    "        left, right = 0, len(A) - 1\n",
    "        while left <= right:\n",
    "            # Generates a random integer in [left, right]\n",
    "            pivot_idx = random.randint(left, right)\n",
    "            new_pivot_idx = partition_around_pivot(left, right, pivot_idx)\n",
    "            if new_pivot_idx == k - 1:\n",
    "                return A[new_pivot_idx]\n",
    "            elif new_pivot_idx > k - 1:\n",
    "                right = new_pivot_idx - 1\n",
    "            else: # new_pivot_idx < k - 1\n",
    "                left = new_pivot_idx + 1\n",
    "                \n",
    "    return find_kth(operator.gt)"
   ]
  },
  {
   "cell_type": "code",
   "execution_count": null,
   "id": "ccbcd233",
   "metadata": {},
   "outputs": [],
   "source": []
  }
 ],
 "metadata": {
  "kernelspec": {
   "display_name": "Python 3 (ipykernel)",
   "language": "python",
   "name": "python3"
  },
  "language_info": {
   "codemirror_mode": {
    "name": "ipython",
    "version": 3
   },
   "file_extension": ".py",
   "mimetype": "text/x-python",
   "name": "python",
   "nbconvert_exporter": "python",
   "pygments_lexer": "ipython3",
   "version": "3.9.7"
  }
 },
 "nbformat": 4,
 "nbformat_minor": 5
}
