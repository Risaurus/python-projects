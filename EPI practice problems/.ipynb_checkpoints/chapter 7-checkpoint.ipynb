{
 "cells": [
  {
   "cell_type": "markdown",
   "id": "06c9ca8e",
   "metadata": {},
   "source": [
    "# Linked Lists"
   ]
  },
  {
   "cell_type": "code",
   "execution_count": 2,
   "id": "15d8b3b9",
   "metadata": {},
   "outputs": [],
   "source": [
    "class ListNode:\n",
    "    def __init__(self, data=0, next=None):\n",
    "        self.data = data\n",
    "        self.next = next"
   ]
  },
  {
   "cell_type": "code",
   "execution_count": 2,
   "id": "e93f2b43",
   "metadata": {},
   "outputs": [],
   "source": [
    "def search_list(L: ListNode, key: int) -> ListNode:\n",
    "    while L and L.data != key:\n",
    "        L = L.next\n",
    "    # If key was not present in the list, L will have become null\n",
    "    return L\n",
    "\n",
    "# Insert new_node after node\n",
    "def insert_after(node: ListNode, new_node: ListNode) -> None:\n",
    "    new_node.next = node.next\n",
    "    node.next = new_node\n",
    "    \n",
    "# Delete the node past this one. assume node is not a tail\n",
    "def delete_after(node: ListNode) -> None:\n",
    "    node.next = node.next.next"
   ]
  },
  {
   "cell_type": "markdown",
   "id": "dfaab672",
   "metadata": {},
   "source": [
    "**Question 7.1**: Merge two sorted lists"
   ]
  },
  {
   "cell_type": "markdown",
   "id": "5e060c86",
   "metadata": {},
   "source": [
    "Take two linked lists that are assumed to be sorted and returns their merged state.\n",
    "The only field that can be changed is the node's next field.\n",
    "\n",
    "*hint*: Two sorted arrays can be merged using two indices. For lists, take care when one iterator meets the end.\n",
    "\n",
    "One way to do this is using a pointer to 'zipper' the two linked lists together by always changing the last added node's next value to the lower value. There would then be two more pointers pointing to the next lowest value of the lists that hasn't been added to the 'zipper' yet. Another new head pointer would keep the head saved for returning later.\n",
    "\n",
    "Complexities:\n",
    "- Time: O(n+m) where n is the length of the first list and m is the length of the second\n",
    "- Space: O(1) since no new space is needed"
   ]
  },
  {
   "cell_type": "code",
   "execution_count": 4,
   "id": "47c1d8db",
   "metadata": {},
   "outputs": [],
   "source": [
    "def merge_two_sorted_lists(A: ListNode, B: ListNode) -> ListNode:\n",
    "    head = A if A.data < B.data else B\n",
    "    if head == A:\n",
    "        A = A.next\n",
    "    else:\n",
    "        B = B.next\n",
    "        \n",
    "    zipper = head\n",
    "    while A and B:\n",
    "        if A.data < B.data:\n",
    "            zipper.next = A\n",
    "            A = A.next\n",
    "        else:\n",
    "            zipper.next = B\n",
    "            B = B.next\n",
    "        zipper = zipper.next\n",
    "        \n",
    "    # if one of the lists hasn't ended, just add the remainer to zipper since\n",
    "    # its sorted state means the rest of the values is greater than the current zipper val\n",
    "    if A:\n",
    "        zipper.next = A\n",
    "    elif B:\n",
    "        zipper.next = B\n",
    "        \n",
    "    return head"
   ]
  },
  {
   "cell_type": "markdown",
   "id": "e6204478",
   "metadata": {},
   "source": [
    "Book solution is pretty much the same. The only difference is the use of a dummy head which makes it so the first part of my code isn't necessary. A bit clearly but the complexities remain the same."
   ]
  },
  {
   "cell_type": "markdown",
   "id": "af96ed5f",
   "metadata": {},
   "source": [
    "**Question 7.2**: Reverse a single sublist"
   ]
  },
  {
   "cell_type": "markdown",
   "id": "02288707",
   "metadata": {},
   "source": [
    "A program that takes a singly linked list L and two integers s and f as arguments, and reverses the order of the nodes from the sth node to the fth node, inclusive. The numbering beings at 1 so the head node is 1.\n",
    "\n",
    "*Hint*: Focus on the successor fields which have to be updated.\n",
    "\n",
    "Well the first step would be finding the where the subset starts, so iterate through the list until you have a pointer at s-1 (the node before the subset). Since s should now be the last node in the subset, instead of s pointing to s+1, we need s+1 to point to s. Therefore by using two pointers, we can continue iterating through the list without losing the next when we switch the order.\n",
    "After reversing f, we'll have the original f.next saved so we can flip the subset within the whole list.\n",
    "\n",
    "- Time: O(n) where n is the size of the linked list. This would be worst case since the only reason we'd go to the end of the list is if the subset is at the end.\n",
    "- Space: O(1) we don't add any nodes."
   ]
  },
  {
   "cell_type": "code",
   "execution_count": 5,
   "id": "7d37bd6b",
   "metadata": {},
   "outputs": [],
   "source": [
    "def reverse_sublist(L: ListNode, s: int, f: int) -> ListNode:\n",
    "    dummy = subhead = ListNode()\n",
    "    dummy.next = L \n",
    "    # dummy would then become 0. this is to have the function work even if the subset starts at 1\n",
    "    # get to the node before the subset\n",
    "    for _ in range(s-1):\n",
    "        subhead = subhead.next\n",
    "    \n",
    "    after = subhead.next # keeps track of node that'll become .next\n",
    "    before = after.next # node that will have .next changed to after\n",
    "    next_ = before.next # next node that'll be adjusted\n",
    "    \n",
    "    for _ in range(s, f):\n",
    "        before.next = after\n",
    "        after = before\n",
    "        before = next_\n",
    "        next_ = next_.next\n",
    "    # should stop when after is pointing at f.\n",
    "    # flip the subset now\n",
    "    subhead.next.next = after\n",
    "    subhead.next = before\n",
    "    \n",
    "    return dummy.next"
   ]
  },
  {
   "cell_type": "markdown",
   "id": "fd4ef5fd",
   "metadata": {},
   "source": [
    "The book solution is similar, if not more condensed by putting multiple steps in a single line. The subset reserving is also slightly different as they use the subset_head as an anchor to loop and reverse the subset through.\n",
    "\n",
    "Time complexity is also simplified more accurately to O(f) since we don't iterate past the fth node."
   ]
  },
  {
   "cell_type": "markdown",
   "id": "fa2e98d0",
   "metadata": {},
   "source": [
    "**Question 7.3**: Test for cyclicity"
   ]
  },
  {
   "cell_type": "markdown",
   "id": "97a68d4a",
   "metadata": {},
   "source": [
    "Check for any cycles in an linked list input. Return either null (for no cycle) or the node at the start of the cycle.\n",
    "\n",
    "*Hint*: Consider using two iterators, one fast and one slow.\n",
    "\n",
    "My first instinct, without looking at the hint, is to make a hash table that stores visited nodes and then we'll just check if any sequential node is already in the hash. If it is, it'll return that node. If no cycle, it'll just keep iterating until there is no next node. Although effective in getting a solution, it does require potentially a lot of space depending on the list size (which we don't know).\n",
    "\n",
    "If we're using two iterators, one fast one slow, we could have one move one step at a time and then the second, two steps at a time. That way, if there's a cycle then eventually the two pointers will equal each other. If not, fast will quickly reach null and we can return.\n",
    "\n",
    "The problem now is how we can find the head of the cycle since the two iterators could have collided at any point of the cycle. We could bring the hash table idea back, though that still creates a space issue and worst case is that the whole list is a cycle. So instead, we bring back two pointers that'll, this time, be a set distance apart. The distance will by the cycle length since that means that as we iterate through the list, the first point will loop around the cycle then meet the second pointer at the head of the cycle at the end (since they're the whole cycle apart from each other).\n",
    "\n",
    "- Time: O(n^2) where n is the length of the linked list because it needs to iter tot he end for no cycles and basically has to iter again when a cycle is found.\n",
    "- Space: O(1) since we use the space there."
   ]
  },
  {
   "cell_type": "code",
   "execution_count": 3,
   "id": "af510d89",
   "metadata": {},
   "outputs": [],
   "source": [
    "def cyclicity_test(head: ListNode) -> ListNode:\n",
    "    slow = fast = head\n",
    "    \n",
    "    while fast and fast.next:\n",
    "        # slow incremented by 1, fast incremented by 2\n",
    "        slow = slow.next\n",
    "        fast = fast.next.next\n",
    "        \n",
    "        # a loop is found\n",
    "        if slow == fast:\n",
    "            # find size of loop\n",
    "            point, length = slow.next, 1\n",
    "            while point is not slow:\n",
    "                point, length = point.next, length + 1\n",
    "            \n",
    "            # step through the linked list with two pointers\n",
    "            # loop length apart until they meet\n",
    "            f, b = head\n",
    "            for i in range(length):\n",
    "                f = f.next\n",
    "            while b is not h:\n",
    "                f, b = f.next, b.next\n",
    "            return f\n",
    "    return None # reached a null pointer meaning no cycle was found"
   ]
  },
  {
   "cell_type": "code",
   "execution_count": null,
   "id": "9aa2d2bd",
   "metadata": {},
   "outputs": [],
   "source": []
  }
 ],
 "metadata": {
  "kernelspec": {
   "display_name": "Python 3 (ipykernel)",
   "language": "python",
   "name": "python3"
  },
  "language_info": {
   "codemirror_mode": {
    "name": "ipython",
    "version": 3
   },
   "file_extension": ".py",
   "mimetype": "text/x-python",
   "name": "python",
   "nbconvert_exporter": "python",
   "pygments_lexer": "ipython3",
   "version": "3.9.7"
  }
 },
 "nbformat": 4,
 "nbformat_minor": 5
}
