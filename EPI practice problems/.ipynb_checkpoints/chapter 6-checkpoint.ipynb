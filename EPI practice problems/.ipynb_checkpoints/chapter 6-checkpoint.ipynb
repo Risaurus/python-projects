{
 "cells": [
  {
   "cell_type": "markdown",
   "id": "43e72b52",
   "metadata": {},
   "source": [
    "# Strings"
   ]
  },
  {
   "cell_type": "markdown",
   "id": "30d723a3",
   "metadata": {},
   "source": [
    "**Question 6.1**: Interconvert strings and integers"
   ]
  },
  {
   "cell_type": "markdown",
   "id": "c62222c2",
   "metadata": {},
   "source": [
    "Implement methods that take a string representing an integer and return the corresponding integer, and vice versa.\n",
    "Needs to handle negative integers.\n",
    "Strings rep-ing ints will have \"+\" or \"-\" preceeding the number, ints to strings don't need to add \"+\" to positive ints.\n",
    "\n",
    "*hint*: Build the result one digit at a time.\n",
    "\n",
    "\n",
    "For int to str, we'll take the digits backwards and input them backward into a list. The end of the list will have a '-' if the int is less than 0. Then we'll return the list reversed and combined into a str.\n",
    "For str to int, we'll read it char by char and use arithmetic to correctly add that char (past the first index since that'll be a positive or negative indicator) to an int variable.\n",
    "\n",
    "Time complexity: O(n) where n is the number of digits (and sign) or the int or str\n",
    "Space complexity: O(1)"
   ]
  },
  {
   "cell_type": "code",
   "execution_count": 3,
   "id": "a297ddf2",
   "metadata": {},
   "outputs": [],
   "source": [
    "def str_to_int(n: str) -> int:\n",
    "    num = 0\n",
    "    sign = 1 if n[0] == \"+\" else -1\n",
    "    for i in range(1, len(n)):\n",
    "        x = ord(str[i]) - ord('0')\n",
    "        num = (num * 10) + x\n",
    "    return sign * num\n",
    "    \n",
    "    \n",
    "    \n",
    "def int_to_str(n: int) -> str:\n",
    "    if n < 0:\n",
    "        sign = '-'\n",
    "        n *= -1\n",
    "    else:\n",
    "        sign = '+'\n",
    "    \n",
    "    convert = []\n",
    "    while n:\n",
    "        convert.append(n % 10)\n",
    "        n //= 10\n",
    "    \n",
    "    return sign + '' + reversed(convert)"
   ]
  },
  {
   "cell_type": "markdown",
   "id": "235f4cc2",
   "metadata": {},
   "source": [
    "The book solution is essentially the same, though their str to int conversion is more compact by using a lambda function."
   ]
  },
  {
   "cell_type": "code",
   "execution_count": 4,
   "id": "04639828",
   "metadata": {},
   "outputs": [],
   "source": [
    "def string_to_int(s: str) -> int:\n",
    "    return (-1 if s[0] == '-' else 1) * functools.reduce(\n",
    "        lambda running_sum, c: running_sum * 10 + string.digits.index(c),\n",
    "        s[s[0] in '-+':], 0)"
   ]
  },
  {
   "cell_type": "markdown",
   "id": "8c649ac2",
   "metadata": {},
   "source": [
    "**Question 6.2**: Base conversion"
   ]
  },
  {
   "cell_type": "markdown",
   "id": "21dd0d9e",
   "metadata": {},
   "source": [
    "Write program that performs base conversion.\n",
    "Input is a string, an integer b1, and another integer b2.\n",
    "Output should be string repesenting the integer in base b2.\n",
    "Assume 2 <= b1, b2, <= 16.\n",
    "Use the normal letter representation system for conversions greater than 9 (ie: 'A' for 10)\n",
    "\n",
    "*hint*: What base can you easily convert to and from?\n",
    "\n",
    "I think a good way to go about this is to convert the string into an int and then convert it from b1 to base10, since we know how to easily convert from base 10 to any other base.\n",
    "With the base10 conversion, we then convert it to b2 then return the string version of that result.\n",
    "it'll take O(m) time with m being the number of divisions required to create the b2 integer.\n",
    "space would be O(m) as a list will hold the resulting digits of the conversion."
   ]
  },
  {
   "cell_type": "code",
   "execution_count": 4,
   "id": "4fc907e4",
   "metadata": {},
   "outputs": [],
   "source": [
    "def base_conversion(s: str, b1: int, b2: int) -> str:\n",
    "    if b1 == b2: # no conversions need to be done\n",
    "        return s\n",
    "    \n",
    "    #letters = {'A': 10, 'B': 11, 'C': 12, 'D': 13, 'E': 14, 'F': 15}\n",
    "    \n",
    "    b10 = 0\n",
    "    if b1 != 10: # we need to convert to base 10\n",
    "        for i in range(len(s)):\n",
    "            b10 += int(s[i], 16) * b1**(i+1)\n",
    "    \n",
    "    if b2 == 10: # don't need to convert more\n",
    "        return str(b10)\n",
    "    \n",
    "    after = []\n",
    "    while b10:\n",
    "        after.append(hex(b10 % b2))\n",
    "        b10 //= b2\n",
    "    return \"\" + reversed(after)"
   ]
  },
  {
   "cell_type": "markdown",
   "id": "1c6607ff",
   "metadata": {},
   "source": [
    "The answer is the book is pretty similarly put as mine, cept more elegant maybe? Or at least compact.\n",
    "\n",
    "My reasoning for the time complexity seems to be a little off though. According to the book, it is O(n(1+log(subb2)b1) where n is the length of s.\n",
    "We perform n multiply-and-adds to get x from s, then perform logsubb2 x multiply and adds to ge tthe result. This makes sense since multiplies change for every addition.\n",
    "\n",
    "book solution below:"
   ]
  },
  {
   "cell_type": "code",
   "execution_count": 5,
   "id": "6f46a72c",
   "metadata": {},
   "outputs": [],
   "source": [
    "def convert_base(num_as_string: str, b1: int, b2: int) -> str:\n",
    "    def construct_from_base(num_as_int, base):\n",
    "        return ('' if num_as_int == 0 else\n",
    "               construct_from_base(num_as_int // base, base) +\n",
    "               string.hexdigits[num_as_int % base].upper())\n",
    "    \n",
    "    is_negative = num_as_string[0] == '-'\n",
    "    num_as_int = functools.reduce(\n",
    "        lambda x, c: x * b1 + string.hexdigits.index(x.lower()),\n",
    "        num_as_string[is_negative:], 0)\n",
    "    return ('-' if is_negative else '') + ('0' if num_as_int == 0 else\n",
    "                                          construct_from_base(num_as_int, b2))"
   ]
  },
  {
   "cell_type": "markdown",
   "id": "87fdab6b",
   "metadata": {},
   "source": [
    "**Question 6.4**: Replace and remove"
   ]
  },
  {
   "cell_type": "markdown",
   "id": "3fd8fa03",
   "metadata": {},
   "source": [
    "Input is an array of characters where two roles need to be applied:\n",
    "    - Replace each 'a' by two 'd's\n",
    "    - Delete each entry containing a 'b'\n",
    "You also get the size of the taken spots of the array.\n",
    "*hint*: Consider performing multiple passes on s.\n",
    "\n",
    "There are several things we need to keep track of. The first is the number of chars that we'll work with and how it changes, especially after removing the b's. Then we need to know how much space we'll need to accomodate the extra d's that'll replace the 'a's.\n",
    "One way of doing this is pointers. A pointer that'll keep track of the new size when we remove the 'b's, another to keep track of the extra space needed to accomodate the extra chars that'll be added, and finally an iterating pointer that'll go through the list as we make adjustments.\n",
    "\n",
    "Time: O(n) where n is the length of the array (because the size will stay the same no matter which chars we replace or remove)\n",
    "Space: O(1) as the array comes precompiled with the required space."
   ]
  },
  {
   "cell_type": "code",
   "execution_count": 6,
   "id": "1f3525cf",
   "metadata": {},
   "outputs": [],
   "source": [
    "def replace_remove(size: int, s: list[str]) -> int:\n",
    "    # pointers\n",
    "    write = 0\n",
    "    a_count = 0 # used to keep track of how much more space we'll need when we add\n",
    "    # delete 'b's and count 'a's\n",
    "    for i in range(size):\n",
    "        # conscious of 3 states:\n",
    "        # if s[i] isn't 'a' or 'b'\n",
    "        if s[i] != 'b':\n",
    "            s[write] = s[i]\n",
    "            write += 1 # since we've either replaced the 'b' that was there or shifted the array down\n",
    "        # if s[i] is 'a'\n",
    "        if s[i] == 'a':\n",
    "            a_count += 1\n",
    "        \n",
    "        # if s[i] is 'b'\n",
    "        # don't do anything since we're removing it by keeping the write pointer\n",
    "        # there to replace with the next non 'b' char\n",
    "        \n",
    "    # write is now at the index of the last element on the shortened list + 1\n",
    "    # so now we want two new pointer points. one at the current last index so we can\n",
    "    # decrement down and one at the new end with the space for added 'd's included\n",
    "    current = write - 1\n",
    "    write += a_count - 1\n",
    "    final = write + 1\n",
    "    while current >= 0:\n",
    "        if s[current] == 'a':\n",
    "            s[write], s[write-1] = 'd', 'd'\n",
    "            write -= 2\n",
    "        else:\n",
    "            s[write] = s[current]\n",
    "            write -= 1\n",
    "        current -= 1\n",
    "    return final"
   ]
  },
  {
   "cell_type": "code",
   "execution_count": null,
   "id": "7298c57e",
   "metadata": {},
   "outputs": [],
   "source": []
  }
 ],
 "metadata": {
  "kernelspec": {
   "display_name": "Python 3 (ipykernel)",
   "language": "python",
   "name": "python3"
  },
  "language_info": {
   "codemirror_mode": {
    "name": "ipython",
    "version": 3
   },
   "file_extension": ".py",
   "mimetype": "text/x-python",
   "name": "python",
   "nbconvert_exporter": "python",
   "pygments_lexer": "ipython3",
   "version": "3.9.7"
  }
 },
 "nbformat": 4,
 "nbformat_minor": 5
}
