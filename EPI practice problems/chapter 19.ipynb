{
 "cells": [
  {
   "cell_type": "markdown",
   "id": "c7b6cec8",
   "metadata": {},
   "source": [
    "# Parallel Computing"
   ]
  },
  {
   "cell_type": "code",
   "execution_count": 2,
   "id": "1247c7ba",
   "metadata": {},
   "outputs": [],
   "source": [
    "'''\n",
    "Sempahore example\n",
    "'''\n",
    "class Semaphore():\n",
    "    def __init__(self, max_available):\n",
    "        self.cv = threading.Condition()\n",
    "        self.MAX_AVAILABLE = max_available\n",
    "        self.taken = 0\n",
    "    \n",
    "    def acquire(self):\n",
    "        self.cv.acquire()\n",
    "        while (self.taken == self.MAX_AVAILABLE):\n",
    "            self.cv.wait()\n",
    "        self.taken += 1\n",
    "        self.cv.release()\n",
    "        \n",
    "    def release(self):\n",
    "        self.cv.acquire()\n",
    "        self.taken -= 1\n",
    "        self.cv.notify()\n",
    "        self.cv.release()"
   ]
  },
  {
   "cell_type": "markdown",
   "id": "58eb353b",
   "metadata": {},
   "source": [
    "**Question 19.3**: Implement synchronization for two interleaving threads"
   ]
  },
  {
   "cell_type": "code",
   "execution_count": 2,
   "id": "d3453a3b",
   "metadata": {},
   "outputs": [],
   "source": [
    "\"\"\"\n",
    "Book answer analysis\n",
    "    + reviewing comments\n",
    "\"\"\"\n",
    "import threading\n",
    "class OddEvenMonitor(threading.Condition):\n",
    "    \n",
    "    ODD_TURN = True\n",
    "    EVEN_TURN = False\n",
    "    \n",
    "    def __init__(self):\n",
    "        super().__init__()\n",
    "        self.turn = self.ODD_TURN  # since 1 is odd\n",
    "    \n",
    "    def wait_turn(self, old_turn):\n",
    "        with self:\n",
    "            while self.turn != old_turn:\n",
    "                self.wait()\n",
    "                \n",
    "    def toggle_turn(self):\n",
    "        with self:\n",
    "            self.turn ^= True\n",
    "            self.notify()\n",
    "    \n",
    "\n",
    "class OddThread(threading.Thread):\n",
    "    def __init__(self, monitor):\n",
    "        super().__init__()\n",
    "        self.monitor = monitor\n",
    "        \n",
    "    def run(self):\n",
    "        for i in range(1, 101, 2):\n",
    "            self.monitor.wait_turn(OddEvenMonitor.ODD_TURN) # declares it's waiting for odd_turn\n",
    "            print(i)\n",
    "            self.monitor.toggle_turn() # switchs monitor to even_turn after it's done printing\n",
    "\n",
    "            \n",
    "class EvenThread(threading.Thread):\n",
    "    def __init__(self, monitor):\n",
    "        super().__init__()\n",
    "        self.monitor = monitor\n",
    "    \n",
    "    def run(self):\n",
    "        for i in range(2, 101, 2):\n",
    "            self.monitor.wait_turn(OddEvenMonitor.EVEN_TURN)\n",
    "            print(i)\n",
    "            self.monitor.toggle_turn()"
   ]
  },
  {
   "cell_type": "code",
   "execution_count": null,
   "id": "ebfdb3b4",
   "metadata": {},
   "outputs": [],
   "source": []
  }
 ],
 "metadata": {
  "kernelspec": {
   "display_name": "Python 3 (ipykernel)",
   "language": "python",
   "name": "python3"
  },
  "language_info": {
   "codemirror_mode": {
    "name": "ipython",
    "version": 3
   },
   "file_extension": ".py",
   "mimetype": "text/x-python",
   "name": "python",
   "nbconvert_exporter": "python",
   "pygments_lexer": "ipython3",
   "version": "3.9.7"
  }
 },
 "nbformat": 4,
 "nbformat_minor": 5
}
