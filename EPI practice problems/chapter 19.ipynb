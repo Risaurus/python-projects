{
 "cells": [
  {
   "cell_type": "markdown",
   "id": "c7b6cec8",
   "metadata": {},
   "source": [
    "# Parallel Computing"
   ]
  },
  {
   "cell_type": "code",
   "execution_count": 2,
   "id": "1247c7ba",
   "metadata": {},
   "outputs": [],
   "source": [
    "'''\n",
    "Sempahore example\n",
    "'''\n",
    "class Semaphore():\n",
    "    def __init__(self, max_available):\n",
    "        self.cv = threading.Condition()\n",
    "        self.MAX_AVAILABLE = max_available\n",
    "        self.taken = 0\n",
    "    \n",
    "    def acquire(self):\n",
    "        self.cv.acquire()\n",
    "        while (self.taken == self.MAX_AVAILABLE):\n",
    "            self.cv.wait()\n",
    "        self.taken += 1\n",
    "        self.cv.release()\n",
    "        \n",
    "    def release(self):\n",
    "        self.cv.acquire()\n",
    "        self.taken -= 1\n",
    "        self.cv.notify()\n",
    "        self.cv.release()"
   ]
  },
  {
   "cell_type": "markdown",
   "id": "58eb353b",
   "metadata": {},
   "source": [
    "**Question 19.3**: Implement synchronization for two interleaving threads"
   ]
  },
  {
   "cell_type": "code",
   "execution_count": null,
   "id": "d3453a3b",
   "metadata": {},
   "outputs": [],
   "source": []
  }
 ],
 "metadata": {
  "kernelspec": {
   "display_name": "Python 3 (ipykernel)",
   "language": "python",
   "name": "python3"
  },
  "language_info": {
   "codemirror_mode": {
    "name": "ipython",
    "version": 3
   },
   "file_extension": ".py",
   "mimetype": "text/x-python",
   "name": "python",
   "nbconvert_exporter": "python",
   "pygments_lexer": "ipython3",
   "version": "3.9.7"
  }
 },
 "nbformat": 4,
 "nbformat_minor": 5
}
