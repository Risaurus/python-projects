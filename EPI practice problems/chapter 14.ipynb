{
 "cells": [
  {
   "cell_type": "markdown",
   "id": "41af39a9",
   "metadata": {},
   "source": [
    "# Binary Search Trees (BST)"
   ]
  },
  {
   "cell_type": "markdown",
   "id": "32cdf6bf",
   "metadata": {},
   "source": [
    "Common mistake: when an object that's present in a BST is not updated, leading to looksup to return false even when it's still in the BST\n",
    "    + Try to keep objects immutable\n",
    "    + otherwise, remove mutable object from tree before changing and then add back."
   ]
  },
  {
   "cell_type": "code",
   "execution_count": null,
   "id": "0da13b2a",
   "metadata": {},
   "outputs": [],
   "source": [
    "'''\n",
    "BST prototype (similar to regular tree nodes)\n",
    "'''\n",
    "class BstNode:\n",
    "    def __init__(self, data=None, left=None, right=None):\n",
    "        self.data, self.left, self.right = data, left, right"
   ]
  },
  {
   "cell_type": "markdown",
   "id": "59577ab4",
   "metadata": {},
   "source": [
    "**Question 14.1**: Test if a binary tree satisfies the BST property"
   ]
  },
  {
   "cell_type": "code",
   "execution_count": null,
   "id": "c77bcbfc",
   "metadata": {},
   "outputs": [],
   "source": [
    "class BinaryTreeNode:\n",
    "    def __init__(self, data: int, left=None: BinaryTreeNode, \n",
    "                 right=None: BinaryTreeNode) -> None:\n",
    "        self.data, self.left, self.right = data, left, right\n",
    "        \n",
    "'''\n",
    "Book answer analysis\n",
    "    + reviewing comments\n",
    "BinaryTreeNode class inserted above\n",
    "\n",
    "Time Complexity: O(n), n being the number of nodes\n",
    "Space Complexity: O(h), h is the height of the tree\n",
    "'''\n",
    "\n",
    "def is_binary_tree_bst(tree: BinaryTreeNode) -> bool:\n",
    "    # Because a bst is a tree with a left child less than\n",
    "    # it and proceeding parent values and a right child \n",
    "    # greater than it and less than proceeding parents,\n",
    "    # a range is needed in the check.\n",
    "    def are_keys_in_range(tree,\n",
    "                         low_range=float('-inf'),\n",
    "                         high_range=float('inf')):\n",
    "        if not tree:\n",
    "            return True\n",
    "        elif not low_range <= tree.data <= high_range:\n",
    "            return False\n",
    "        return (are_keys_in_range(tree.left, low_range, tree.data)\n",
    "               and are_keys_in_range(tree.right, tree.data, high_range))\n",
    "    return are_keys_in_range(tree)\n",
    "\n",
    "'''\n",
    "Another solution is using BFS(breadth-first search) \n",
    "Time Complexity: O(n) but has a better best time complexity when finding a node\n",
    "    that violates the BST structure at a smaller depth.\n",
    "'''\n",
    "import collections\n",
    "def is_binary_tree_bst(tree: BinaryTreeNode) -> bool:\n",
    "    QueueEntry = collections.namedtuple('QueueEntry',\n",
    "                                       ('node', 'lower', 'upper'))\n",
    "    bfs_queue = collections.deque(\n",
    "        [QueueEntry(tree, float('-inf'), float('inf'))])\n",
    "    \n",
    "    while bfs_queue:\n",
    "        front = bfs_queue.popleft()\n",
    "        if front.node:\n",
    "            if not front.lower <= front.node.data <= front.upper:\n",
    "                return False\n",
    "            bfs_queue.extend(\n",
    "                (QueueEntry(front.node.left, front.lower, front.node.data),\n",
    "                 QueueEntry(front.node.right, front.node.data, front.upper)))\n",
    "    return True"
   ]
  }
 ],
 "metadata": {
  "kernelspec": {
   "display_name": "Python 3 (ipykernel)",
   "language": "python",
   "name": "python3"
  },
  "language_info": {
   "codemirror_mode": {
    "name": "ipython",
    "version": 3
   },
   "file_extension": ".py",
   "mimetype": "text/x-python",
   "name": "python",
   "nbconvert_exporter": "python",
   "pygments_lexer": "ipython3",
   "version": "3.9.7"
  }
 },
 "nbformat": 4,
 "nbformat_minor": 5
}
