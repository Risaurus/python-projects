{
 "cells": [
  {
   "cell_type": "markdown",
   "id": "41af39a9",
   "metadata": {},
   "source": [
    "# Binary Search Trees (BST)"
   ]
  },
  {
   "cell_type": "markdown",
   "id": "32cdf6bf",
   "metadata": {},
   "source": [
    "Common mistake: when an object that's present in a BST is not updated, leading to looksup to return false even when it's still in the BST\n",
    "    + Try to keep objects immutable\n",
    "    + otherwise, remove mutable object from tree before changing and then add back."
   ]
  },
  {
   "cell_type": "code",
   "execution_count": null,
   "id": "0da13b2a",
   "metadata": {},
   "outputs": [],
   "source": [
    "'''\n",
    "BST prototype (similar to regular tree nodes)\n",
    "'''\n",
    "class BstNode:\n",
    "    def __init__(self, data=None, left=None, right=None):\n",
    "        self.data, self.left, self.right = data, left, right"
   ]
  },
  {
   "cell_type": "code",
   "execution_count": null,
   "id": "60f61035",
   "metadata": {},
   "outputs": [],
   "source": []
  }
 ],
 "metadata": {
  "kernelspec": {
   "display_name": "Python 3 (ipykernel)",
   "language": "python",
   "name": "python3"
  },
  "language_info": {
   "codemirror_mode": {
    "name": "ipython",
    "version": 3
   },
   "file_extension": ".py",
   "mimetype": "text/x-python",
   "name": "python",
   "nbconvert_exporter": "python",
   "pygments_lexer": "ipython3",
   "version": "3.9.7"
  }
 },
 "nbformat": 4,
 "nbformat_minor": 5
}
