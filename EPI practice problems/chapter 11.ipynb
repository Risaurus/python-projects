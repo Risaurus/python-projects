{
 "cells": [
  {
   "cell_type": "markdown",
   "id": "35312904",
   "metadata": {},
   "source": [
    "# Searching"
   ]
  },
  {
   "cell_type": "markdown",
   "id": "afac7a63",
   "metadata": {},
   "source": [
    "### Binary Search"
   ]
  },
  {
   "cell_type": "code",
   "execution_count": null,
   "id": "7aaa7dd5",
   "metadata": {},
   "outputs": [],
   "source": [
    "\"\"\"Example in book that shows how one can do binary search\n",
    "    in which ties are broken using a secondary value of\n",
    "    possibly a diff value type.\n",
    "This is done by using a library binary search routine\n",
    "\n",
    "Time Complexity: O(logn), assuming i-th element in sequence \n",
    "    can be accessed in O(1) time\n",
    "\"\"\"\n",
    "\n",
    "Student = collections.namedtuple('Student', ('name', 'grade_point_average'))\n",
    "\n",
    "\n",
    "def comp_gpa(student: Student) -> Tuple[float, str]:\n",
    "    return (-student.grade_point_average, student.name)\n",
    "\n",
    "\n",
    "def search_student(students: List[Student], target: Student,\n",
    "                  comp_gpa: Callable[[Student], Tuple[float, str]]):\n",
    "    i = bisect.bisect_left([comp_gpa(s) for s in students], comp_gpa(target))\n",
    "    return 0 <= i < len(students) and students[i] == target"
   ]
  },
  {
   "cell_type": "markdown",
   "id": "8fa6b2fd",
   "metadata": {},
   "source": [
    "**Question 11.1**: Search a sorted array for first occurrence of k"
   ]
  },
  {
   "cell_type": "code",
   "execution_count": 2,
   "id": "38f738c1",
   "metadata": {},
   "outputs": [],
   "source": [
    "\"\"\"\n",
    "Time Complexity: O(logn), n being number of entries in list\n",
    "Space Complexity: O(1) since we're not using any extra space\n",
    "\"\"\"\n",
    "\n",
    "def first_occurrence(A: list[int], k: int) -> int:\n",
    "    i = -1\n",
    "    L, U = 0, len(A)-1\n",
    "    # L = lower, U = upper, M = middle, i = returned index\n",
    "    \n",
    "    while L <= U:\n",
    "        M = L + ((U - L) // 2)\n",
    "        if A[M] > k:\n",
    "            U = M - 1\n",
    "        elif A[M] == k:\n",
    "            i = M\n",
    "            # Change upper so we're always looking for an occurrence of k before\n",
    "            # current index\n",
    "            U = M - 1\n",
    "        else:\n",
    "            L = M + 1\n",
    "    return i"
   ]
  },
  {
   "cell_type": "code",
   "execution_count": 3,
   "id": "d98d4f1f",
   "metadata": {},
   "outputs": [],
   "source": [
    "test = [-14, -10, 2, 108, 108, 243, 285, 285, 401]"
   ]
  },
  {
   "cell_type": "code",
   "execution_count": 4,
   "id": "3d409612",
   "metadata": {},
   "outputs": [
    {
     "data": {
      "text/plain": [
       "3"
      ]
     },
     "execution_count": 4,
     "metadata": {},
     "output_type": "execute_result"
    }
   ],
   "source": [
    "first_occurrence(test, 108)"
   ]
  },
  {
   "cell_type": "code",
   "execution_count": 5,
   "id": "4197ce02",
   "metadata": {},
   "outputs": [
    {
     "data": {
      "text/plain": [
       "6"
      ]
     },
     "execution_count": 5,
     "metadata": {},
     "output_type": "execute_result"
    }
   ],
   "source": [
    "first_occurrence(test, 285)"
   ]
  },
  {
   "cell_type": "code",
   "execution_count": 7,
   "id": "3e619d12",
   "metadata": {},
   "outputs": [
    {
     "data": {
      "text/plain": [
       "3"
      ]
     },
     "execution_count": 7,
     "metadata": {},
     "output_type": "execute_result"
    }
   ],
   "source": [
    "import bisect\n",
    "bisect.bisect_left(test, 108)"
   ]
  },
  {
   "cell_type": "code",
   "execution_count": 8,
   "id": "7903c2cd",
   "metadata": {},
   "outputs": [
    {
     "data": {
      "text/plain": [
       "6"
      ]
     },
     "execution_count": 8,
     "metadata": {},
     "output_type": "execute_result"
    }
   ],
   "source": [
    "bisect.bisect_left(test, 285)"
   ]
  },
  {
   "cell_type": "code",
   "execution_count": null,
   "id": "465681b2",
   "metadata": {},
   "outputs": [],
   "source": []
  }
 ],
 "metadata": {
  "kernelspec": {
   "display_name": "Python 3 (ipykernel)",
   "language": "python",
   "name": "python3"
  },
  "language_info": {
   "codemirror_mode": {
    "name": "ipython",
    "version": 3
   },
   "file_extension": ".py",
   "mimetype": "text/x-python",
   "name": "python",
   "nbconvert_exporter": "python",
   "pygments_lexer": "ipython3",
   "version": "3.9.7"
  }
 },
 "nbformat": 4,
 "nbformat_minor": 5
}
