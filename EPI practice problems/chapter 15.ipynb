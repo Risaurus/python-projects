{
 "cells": [
  {
   "cell_type": "markdown",
   "id": "83d44040",
   "metadata": {},
   "source": [
    "# Recursion"
   ]
  },
  {
   "cell_type": "markdown",
   "id": "ff082392",
   "metadata": {},
   "source": [
    "**Question 15.1**: The towers of Hanoi problem"
   ]
  },
  {
   "cell_type": "code",
   "execution_count": 1,
   "id": "78b266f6",
   "metadata": {},
   "outputs": [],
   "source": [
    "'''\n",
    "Book answer analysis\n",
    "    + reviewing comments\n",
    "    \n",
    "Time Complexity: O(2^n) with n being the number of rings.\n",
    "\"unwrapping\" the recurrence is: T(n) = 1 + 2 + 4 + ... + 2^(k)T(n-k) or T(n) = 2^n - 1\n",
    "'''\n",
    "\n",
    "NUM_PEGS = 3\n",
    "\n",
    "\n",
    "def compute_tower_hanoi(num_rings: int) -> list[list[int]]:\n",
    "    def compute_tower_hanoi_steps(num_rings_to_move, from_peg, to_peg,\n",
    "                                 use_peg):\n",
    "        if num_rings_to_move > 0:\n",
    "            compute_tower_hanoi_steps(num_rings_to_move - 1, from_peg, use_peg,\n",
    "                                     to_peg)\n",
    "            pegs[to_peg].append(pegs[from_peg].pop())\n",
    "            result.append([from_peg, to_peg])\n",
    "            compute_tower_hanoi_steps(num_rings_to_move - 1, use_peg, to_peg,\n",
    "                                     from_peg)\n",
    "    \n",
    "    # Initialize pegs.\n",
    "    result: list[list[int]] = []\n",
    "    pegs = [list(reversed(range(1, num_rings + 1)))\n",
    "           ] + [[] for _ in range(1, NUM_PEGS)]\n",
    "    compute_tower_hanoi_steps(num_rings, 0, 1, 2)\n",
    "    return result"
   ]
  },
  {
   "cell_type": "code",
   "execution_count": null,
   "id": "718f54f2",
   "metadata": {},
   "outputs": [],
   "source": []
  }
 ],
 "metadata": {
  "kernelspec": {
   "display_name": "Python 3 (ipykernel)",
   "language": "python",
   "name": "python3"
  },
  "language_info": {
   "codemirror_mode": {
    "name": "ipython",
    "version": 3
   },
   "file_extension": ".py",
   "mimetype": "text/x-python",
   "name": "python",
   "nbconvert_exporter": "python",
   "pygments_lexer": "ipython3",
   "version": "3.9.7"
  }
 },
 "nbformat": 4,
 "nbformat_minor": 5
}
