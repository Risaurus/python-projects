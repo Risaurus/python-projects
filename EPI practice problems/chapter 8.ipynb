{
 "cells": [
  {
   "cell_type": "markdown",
   "id": "b82c4232",
   "metadata": {},
   "source": [
    "# Stacks and Queues"
   ]
  },
  {
   "cell_type": "markdown",
   "id": "fe5f8eac",
   "metadata": {},
   "source": [
    "**Question 8.1**: Implement a stack with max API"
   ]
  },
  {
   "cell_type": "code",
   "execution_count": null,
   "id": "0dd65322",
   "metadata": {},
   "outputs": [],
   "source": [
    "class Stack:\n",
    "    def __init__(self):\n",
    "        self.stack = []\n",
    "        self.max_ = []\n",
    "        \n",
    "    def empty(self) -> bool:\n",
    "        return len(self.stack) == 0\n",
    "        \n",
    "    def max(self) -> int:\n",
    "        return self.max_[-1]\n",
    "        \n",
    "    def push(self, val: int):\n",
    "        if self.empty() or self.max() <= val:\n",
    "            self.max_.append(val)\n",
    "        self.stack.append(val)    \n",
    "    \n",
    "    def pop(self):\n",
    "        ret = self.stack.pop()\n",
    "        if self.max() == ret:\n",
    "            self.max_.pop()\n",
    "        return ret"
   ]
  }
 ],
 "metadata": {
  "kernelspec": {
   "display_name": "Python 3 (ipykernel)",
   "language": "python",
   "name": "python3"
  },
  "language_info": {
   "codemirror_mode": {
    "name": "ipython",
    "version": 3
   },
   "file_extension": ".py",
   "mimetype": "text/x-python",
   "name": "python",
   "nbconvert_exporter": "python",
   "pygments_lexer": "ipython3",
   "version": "3.9.7"
  }
 },
 "nbformat": 4,
 "nbformat_minor": 5
}
