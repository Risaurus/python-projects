{
 "cells": [
  {
   "cell_type": "markdown",
   "id": "b82c4232",
   "metadata": {},
   "source": [
    "# Stacks and Queues"
   ]
  },
  {
   "cell_type": "markdown",
   "id": "4265993e",
   "metadata": {},
   "source": [
    "## Stacks"
   ]
  },
  {
   "cell_type": "markdown",
   "id": "fe5f8eac",
   "metadata": {},
   "source": [
    "**Question 8.1**: Implement a stack with max API"
   ]
  },
  {
   "cell_type": "code",
   "execution_count": 1,
   "id": "0dd65322",
   "metadata": {},
   "outputs": [],
   "source": [
    "class Stack:\n",
    "    def __init__(self):\n",
    "        self.stack = []\n",
    "        self.max_ = []\n",
    "        \n",
    "    def empty(self) -> bool:\n",
    "        return len(self.stack) == 0\n",
    "        \n",
    "    def max(self) -> int:\n",
    "        return self.max_[-1]\n",
    "        \n",
    "    def push(self, val: int):\n",
    "        if self.empty() or self.max() <= val:\n",
    "            self.max_.append(val)\n",
    "        self.stack.append(val)    \n",
    "    \n",
    "    def pop(self):\n",
    "        ret = self.stack.pop()\n",
    "        if self.max() == ret:\n",
    "            self.max_.pop()\n",
    "        return ret"
   ]
  },
  {
   "cell_type": "code",
   "execution_count": null,
   "id": "b4832ddf",
   "metadata": {},
   "outputs": [],
   "source": []
  },
  {
   "cell_type": "markdown",
   "id": "892d0241",
   "metadata": {},
   "source": [
    "## Queues"
   ]
  },
  {
   "cell_type": "markdown",
   "id": "eb35dcd0",
   "metadata": {},
   "source": [
    "Basic Queue API"
   ]
  },
  {
   "cell_type": "code",
   "execution_count": 2,
   "id": "445f7adf",
   "metadata": {},
   "outputs": [],
   "source": [
    "import collections\n",
    "class Queue:\n",
    "    def __init__(self) -> None:\n",
    "        self._data: Deque[int] = collections.deque()\n",
    "    \n",
    "    def enqueue(self, x: int) -> None:\n",
    "        self._data.append(x)\n",
    "    \n",
    "    def dequeue(self) -> int:\n",
    "        return self._data.popleft()\n",
    "    \n",
    "    def max(self) -> int:\n",
    "        return max(self._data)"
   ]
  },
  {
   "cell_type": "markdown",
   "id": "7bc39a35",
   "metadata": {},
   "source": [
    "The above uses a deque meaning that technically it was be dequeued from either head or tail of stack, since the collections.deque is written to handle both."
   ]
  },
  {
   "cell_type": "markdown",
   "id": "cc9cb048",
   "metadata": {},
   "source": [
    "**Question 8.6**: Computer binary tree nodes in order of increasing depth"
   ]
  },
  {
   "cell_type": "markdown",
   "id": "d5fe8559",
   "metadata": {},
   "source": [
    "Given a binary tree, return an array consisting of keys at the same level. Keys should appear in the order of the cooresponding nodes' depths, breaking ties from left to right.\n",
    "\n",
    "*Hint*: First think about solving this problem with a pair of queues.\n",
    "\n",
    "Without the specifics of clumping levels together, the prompt can be simplified into a Breadth-First-Search (BFS) of a tree. A BFS is basically a search through a tree using a queue that enqueues the left and right children of a node and then dequeues to look for the next node to search. Since we want to save the keys as we see them, instead of dequeueing, we can simply interate through the growing array as nodes are added.\n",
    "\n",
    "The second queue mentioned in the hint can be used to group same levels together. For each parent in a specific level being dequeued, we enqueue their children into another queue together.\n",
    "\n",
    "- Time: O(n) where n is the total nodes in the tree\n",
    "- Space: O(n) since we're making a new array with every node in the tree"
   ]
  },
  {
   "cell_type": "code",
   "execution_count": 6,
   "id": "db057124",
   "metadata": {},
   "outputs": [],
   "source": [
    "# implementing a simple binary tree node class\n",
    "# so there's no compiling error\n",
    "class BinaryTreeNode:\n",
    "    def __init__(self, data = 0, left = None, right = None) -> None:\n",
    "        self.data, self.left, self.right = data, left, right"
   ]
  },
  {
   "cell_type": "code",
   "execution_count": 7,
   "id": "ac3ad1f8",
   "metadata": {},
   "outputs": [],
   "source": [
    "def increasing_depth(tree: BinaryTreeNode) -> list[int]:\n",
    "    levels: list[list[int]] = []\n",
    "    if not tree:\n",
    "        return levels\n",
    "    \n",
    "    level = [tree]\n",
    "    while level:\n",
    "        levels.append([node.data for node in level])\n",
    "        children = []\n",
    "        for node in level:\n",
    "            for child in (node.left, node.right):\n",
    "                if child:\n",
    "                    children.append(child)\n",
    "        level = children\n",
    "    return levels"
   ]
  },
  {
   "cell_type": "markdown",
   "id": "9dc02746",
   "metadata": {},
   "source": [
    "In the book solution, the main difference is the compactness of the while loop, but the functionality of the solution is essentially the same.\n",
    "\n",
    "```Python\n",
    "curr_depth_nodes = [tree]\n",
    "while curr_depth_nodes:\n",
    "    result.append([curr.data for curr in curr_depth_nodes])\n",
    "    curr_depth_nodes = [\n",
    "        child for curr in curr_depth_nodes\n",
    "        for child in (curr.left, curr.right) if child\n",
    "    ]\n",
    "```\n",
    "\n",
    "Also the Space complexity is actually O(m) where m is the maximum number of nodes at any single depth. Space should be thought of as most space used at once rather than total space used."
   ]
  },
  {
   "cell_type": "code",
   "execution_count": null,
   "id": "57faffa9",
   "metadata": {},
   "outputs": [],
   "source": []
  }
 ],
 "metadata": {
  "kernelspec": {
   "display_name": "Python 3 (ipykernel)",
   "language": "python",
   "name": "python3"
  },
  "language_info": {
   "codemirror_mode": {
    "name": "ipython",
    "version": 3
   },
   "file_extension": ".py",
   "mimetype": "text/x-python",
   "name": "python",
   "nbconvert_exporter": "python",
   "pygments_lexer": "ipython3",
   "version": "3.9.7"
  }
 },
 "nbformat": 4,
 "nbformat_minor": 5
}
