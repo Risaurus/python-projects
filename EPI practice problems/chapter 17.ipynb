{
 "cells": [
  {
   "cell_type": "markdown",
   "id": "440695d8",
   "metadata": {},
   "source": [
    "# Greedy Algorithms and Invariants"
   ]
  },
  {
   "cell_type": "markdown",
   "id": "a202f7d3",
   "metadata": {},
   "source": [
    "### Greedy Algorithms"
   ]
  },
  {
   "cell_type": "markdown",
   "id": "fc0917ba",
   "metadata": {},
   "source": [
    "**Question 17.1**: Compute an optimum assignment of tasks"
   ]
  },
  {
   "cell_type": "code",
   "execution_count": 1,
   "id": "073989f1",
   "metadata": {},
   "outputs": [
    {
     "data": {
      "text/plain": [
       "'\\ntime complexity: O(nlogn + n/2) which simplifies to O(nlogn) for sorted\\nspace complexity: O(n) because a new list is being made containing the pairs\\n'"
      ]
     },
     "execution_count": 1,
     "metadata": {},
     "output_type": "execute_result"
    }
   ],
   "source": [
    "'''\n",
    "assign tasks to workers\n",
    "works assigned exactly 2 tasks\n",
    "tasks are independent of each other and can be assigned to anyone\n",
    "want to minimize the amount of time it takes to finish all the tasks\n",
    "ie: tasks = [5, 2, 1, 6, 4, 4]\n",
    "    assignments = [(5,2), (1,6), (4,4)] = (5+2, 1+6, 4+4) = 8 hours\n",
    "'''\n",
    "import collections\n",
    "\n",
    "paired_tasks = collections.namedtuple('paired_tasks', ('task1', 'task2'))\n",
    "\n",
    "\n",
    "def optimum_task_pairs(tasks: list[int]) -> list[paired_tasks]:\n",
    "    # Sort first to easily distinguish long tasks to short tasks\n",
    "    # sorted is O(nlogn)\n",
    "    tasks.sort()\n",
    "    paired = []\n",
    "    i = 0\n",
    "    while len(tasks) - i >= i:\n",
    "        if i == len(tasks) - i:\n",
    "            paired.append(tasks[i])\n",
    "        paired.append(paired_tasks(tasks[i], tasks[-i]))\n",
    "    return paired\n",
    "\n",
    "'''\n",
    "time complexity: O(nlogn + n/2) which simplifies to O(nlogn) for sorted\n",
    "space complexity: O(n) because a new list is being made containing the pairs\n",
    "'''"
   ]
  },
  {
   "cell_type": "code",
   "execution_count": null,
   "id": "e5ef40d0",
   "metadata": {},
   "outputs": [],
   "source": [
    "'''\n",
    "Book answer diff\n",
    "instead of a while loop, the book condensed it into the return statement using a for loop\n",
    "'''\n",
    "\n",
    "return [\n",
    "    paired_tasks(tasks[i], tasks[-i])\n",
    "    for i in range(len(tasks) // 2)\n",
    "]"
   ]
  },
  {
   "cell_type": "markdown",
   "id": "5128a66e",
   "metadata": {},
   "source": [
    "### Invariants"
   ]
  },
  {
   "cell_type": "markdown",
   "id": "c578ec97",
   "metadata": {},
   "source": [
    "**Problem 17.4**: The 3-sum problem"
   ]
  },
  {
   "cell_type": "code",
   "execution_count": 3,
   "id": "6e277e6a",
   "metadata": {},
   "outputs": [],
   "source": [
    "def three_sum(A: list[int], t: int) -> bool:\n",
    "    # first sort since it'd be easier to know the bounds of the numbers\n",
    "    A.sort() # O(nlogn)\n",
    "    \n",
    "    # create hash table of available ints and check if a triple of the same\n",
    "    # can equal t\n",
    "    # O(n)\n",
    "    hashA = {}\n",
    "    for x in A:\n",
    "        if x * 3 == t:\n",
    "            return True\n",
    "        hashA.add(x)\n",
    "    \n",
    "    O(n^2)\n",
    "    for n in A:\n",
    "        for m in A:\n",
    "            if t - (n+m) in hashA:\n",
    "                return True\n",
    "    return False\n",
    "\n",
    "# time complexity: O(nlogn + n + n^2) => O(n^2) where n is length of A\n",
    "# space complexity: O(n), set version of A\n",
    "# could simplify this by only using the hash rather than the original list\n",
    "# in case of multi duplicates"
   ]
  },
  {
   "cell_type": "code",
   "execution_count": null,
   "id": "6fdf05a1",
   "metadata": {},
   "outputs": [],
   "source": [
    "'''\n",
    "Book solution\n",
    "    + reviewing comments\n",
    "\n",
    "Time Complexity: O(n^2)\n",
    "Space Complexity: O(1)\n",
    "'''\n",
    "\n",
    "def has_three_sum(A: list[ing], t: int) -> bool:\n",
    "    A.sort()\n",
    "    # finds if the sum of two numbers in A equals to t-a.\n",
    "    # uses has_two_sum function in book\n",
    "    # takes advantage of the fact that it's sorted (an invariant) to \n",
    "    # lessen the space complexity\n",
    "    return any(has_two_sum(A, t - a) for a in A)"
   ]
  }
 ],
 "metadata": {
  "kernelspec": {
   "display_name": "Python 3 (ipykernel)",
   "language": "python",
   "name": "python3"
  },
  "language_info": {
   "codemirror_mode": {
    "name": "ipython",
    "version": 3
   },
   "file_extension": ".py",
   "mimetype": "text/x-python",
   "name": "python",
   "nbconvert_exporter": "python",
   "pygments_lexer": "ipython3",
   "version": "3.9.7"
  }
 },
 "nbformat": 4,
 "nbformat_minor": 5
}
