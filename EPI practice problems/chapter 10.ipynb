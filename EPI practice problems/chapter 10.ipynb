{
 "cells": [
  {
   "cell_type": "markdown",
   "id": "9eaf47af",
   "metadata": {},
   "source": [
    "# Heaps"
   ]
  },
  {
   "cell_type": "markdown",
   "id": "73f717e2",
   "metadata": {},
   "source": [
    "**Question 10.1**: Merge sorted files"
   ]
  },
  {
   "cell_type": "code",
   "execution_count": null,
   "id": "af25571e",
   "metadata": {},
   "outputs": [],
   "source": [
    "\"\"\"Book solution\n",
    "    + review comments\n",
    "    \n",
    "Time complexity: O(nlogk) with k being the number of input sequences.\n",
    "    extract-min and insert take O(logk) time\n",
    "    n is the total number of elements\n",
    "Space complexity: O(k) beyond the space needed to write the result array\n",
    "\"\"\"\n",
    "\n",
    "def merge_sorted_arrays(sorted_arrays: List[List[int]]) -> List[int]:\n",
    "    min_heap: List[Tuple[int, int]] = []\n",
    "    # Builds a list of iterators for each array in sorted_arrays.\n",
    "    #   this way you can avoid having to merge the arrays which'll\n",
    "    #   take up more time\n",
    "    sorted_arrays_iters = [iter(x) for x in sorted_arrays]\n",
    "    \n",
    "    # Puts first element from each iterator in min_heap.\n",
    "    for i, it in enumerate(sorted_arrays_iters):\n",
    "        first_element = next(it, None)\n",
    "        if first_element is not None:\n",
    "            heapq.heappush(min_heap, (first_element, i))\n",
    "    # only the first element is important because the arrays are\n",
    "    # already sorted so the first is the lowest\n",
    "    \n",
    "    # then with the heap made:\n",
    "    #   pop the min value\n",
    "    #   insert lowest value in result array and iter the popped list\n",
    "    #      in sorted_array_iters\n",
    "    #   insert the new head value of the list back into heap\n",
    "    #   repeat until all values are iter'd and popped\n",
    "    result = []\n",
    "    while min_heap:\n",
    "        smallest_entry, smallest_array_i = heapq.heappop(min_heap)\n",
    "        smallest_array_iter = sorted_arrays_iters[smallest_array_i]\n",
    "        result.append(smallest_entry)\n",
    "        next_element = next(smallest_array_iter, None)\n",
    "        if next_element is not None:\n",
    "            heapq.heappush(min_heap, (next_element, smallest_array_i))\n",
    "    return result\n",
    "\n",
    "\n",
    "# Pythonic solution, uses the heapq.merge() method which takes multiple inputs.\n",
    "def merge_sorted_arrays_pythonic(sorted_arrays):\n",
    "    return list(heapq.merge(*sorted_arrays))"
   ]
  }
 ],
 "metadata": {
  "kernelspec": {
   "display_name": "Python 3 (ipykernel)",
   "language": "python",
   "name": "python3"
  },
  "language_info": {
   "codemirror_mode": {
    "name": "ipython",
    "version": 3
   },
   "file_extension": ".py",
   "mimetype": "text/x-python",
   "name": "python",
   "nbconvert_exporter": "python",
   "pygments_lexer": "ipython3",
   "version": "3.9.7"
  }
 },
 "nbformat": 4,
 "nbformat_minor": 5
}
