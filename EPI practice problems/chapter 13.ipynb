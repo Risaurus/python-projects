{
 "cells": [
  {
   "cell_type": "markdown",
   "id": "749b67ab",
   "metadata": {},
   "source": [
    "# Sorting"
   ]
  },
  {
   "cell_type": "code",
   "execution_count": 8,
   "id": "822eff98",
   "metadata": {},
   "outputs": [],
   "source": [
    "'''\n",
    "Book example of switching what value a defined class is sorted by\n",
    "'''\n",
    "\n",
    "class Student:\n",
    "    def __init__(self, name: str, grade_point_average: float) -> None:\n",
    "        self.name = name\n",
    "        self.grade_point_average = grade_point_average\n",
    "    \n",
    "    def __lt__(self, other: 'Student') -> bool:\n",
    "        # Default sorts by student name\n",
    "        return self.name < other.name\n",
    "    \n",
    "    def __str__(self):\n",
    "        return f'{self.name}\\t{self.grade_point_average}'\n",
    "\n",
    "    \n",
    "students = [\n",
    "    Student('A', 4.0),\n",
    "    Student('B', 3.0),\n",
    "    Student('C', 2.0),\n",
    "    Student('D', 3.2)\n",
    "]\n",
    "\n",
    "# Sort according to __lt__ defined in Student. students remained unchanged.\n",
    "students_sort_by_name = sorted(students)\n",
    "\n",
    "# Sort students in-place by grade_point_average.\n",
    "students.sort(key=lambda student: student.grade_point_average)"
   ]
  },
  {
   "cell_type": "code",
   "execution_count": 10,
   "id": "5f796843",
   "metadata": {},
   "outputs": [
    {
     "name": "stdout",
     "output_type": "stream",
     "text": [
      "A\t4.0\n",
      "B\t3.0\n",
      "C\t2.0\n",
      "D\t3.2\n"
     ]
    }
   ],
   "source": [
    "for s in students_sort_by_name:\n",
    "    print(s)"
   ]
  },
  {
   "cell_type": "code",
   "execution_count": 11,
   "id": "4c3603c8",
   "metadata": {},
   "outputs": [
    {
     "name": "stdout",
     "output_type": "stream",
     "text": [
      "C\t2.0\n",
      "B\t3.0\n",
      "D\t3.2\n",
      "A\t4.0\n"
     ]
    }
   ],
   "source": [
    "# default for sort is ascending order\n",
    "for s in students:\n",
    "    print(s)"
   ]
  },
  {
   "cell_type": "markdown",
   "id": "daaae5e6",
   "metadata": {},
   "source": [
    "**Question 13.1**: Computer the intersection of two sorted arrays"
   ]
  },
  {
   "cell_type": "code",
   "execution_count": 14,
   "id": "35f93465",
   "metadata": {},
   "outputs": [],
   "source": [
    "'''\n",
    "Since the inputs are already sorted, one method of looking for like\n",
    "    items is by using a pointer for each list. As the pointer traverses\n",
    "    the lists, they compare the items and only move when the items are\n",
    "    not the same.\n",
    "If the items are the same, that items is added to the returning array.\n",
    "\n",
    "Time Complexity: O(n) with n being the length of the longer list. This is worst\n",
    "    case scenario since the last item of the shorter list can be larger than the\n",
    "    rest of the longer list.\n",
    "Space Complexity: O(C) with C being the number of like items in the two lists.\n",
    "'''\n",
    "\n",
    "def sorted_arrays_intersection(A: list[int], B: list[int]) -> list[int]:\n",
    "    # Create the array that'll be returned\n",
    "    crossed = []\n",
    "    i = 0\n",
    "    j = 0\n",
    "    \n",
    "    while i < len(A) and j < len(B):\n",
    "        if A[i] == B[j]:\n",
    "            if not crossed:\n",
    "                crossed.append(A[i])\n",
    "            if A[i] != crossed[-1]:\n",
    "                crossed.append(A[i])\n",
    "            i += 1\n",
    "            j += 1\n",
    "        elif A[i] > B[j]:\n",
    "            j += 1\n",
    "        else: # A[i] < B[j]\n",
    "            i += 1\n",
    "    \n",
    "    return crossed"
   ]
  },
  {
   "cell_type": "code",
   "execution_count": 15,
   "id": "d917d920",
   "metadata": {},
   "outputs": [
    {
     "data": {
      "text/plain": [
       "[5, 6, 8]"
      ]
     },
     "execution_count": 15,
     "metadata": {},
     "output_type": "execute_result"
    }
   ],
   "source": [
    "A = [2, 3, 3, 5, 5, 6, 7, 7, 8, 12]\n",
    "B = [5, 5, 6, 8, 8, 9, 10, 10]\n",
    "\n",
    "sorted_arrays_intersection(A, B)"
   ]
  },
  {
   "cell_type": "markdown",
   "id": "b745b4c1",
   "metadata": {},
   "source": [
    "The two ways shown in the book are brute force (O(nm)) and using a bisect search of one array for every input in the other (O(mlogn)). \n",
    "The last method shown is almost identical to mine with one simplification of the code but no difference runtime wise.\n",
    "The difference is below:"
   ]
  },
  {
   "cell_type": "code",
   "execution_count": null,
   "id": "00a1e559",
   "metadata": {},
   "outputs": [],
   "source": [
    "# WHAT I HAD\n",
    "if not crossed:\n",
    "    crossed.append(A[i])\n",
    "if A[i]"
   ]
  }
 ],
 "metadata": {
  "kernelspec": {
   "display_name": "Python 3 (ipykernel)",
   "language": "python",
   "name": "python3"
  },
  "language_info": {
   "codemirror_mode": {
    "name": "ipython",
    "version": 3
   },
   "file_extension": ".py",
   "mimetype": "text/x-python",
   "name": "python",
   "nbconvert_exporter": "python",
   "pygments_lexer": "ipython3",
   "version": "3.9.7"
  }
 },
 "nbformat": 4,
 "nbformat_minor": 5
}
