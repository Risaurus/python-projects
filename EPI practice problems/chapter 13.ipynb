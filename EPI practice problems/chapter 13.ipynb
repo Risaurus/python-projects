{
 "cells": [
  {
   "cell_type": "markdown",
   "id": "749b67ab",
   "metadata": {},
   "source": [
    "# Sorting"
   ]
  },
  {
   "cell_type": "code",
   "execution_count": 8,
   "id": "822eff98",
   "metadata": {},
   "outputs": [],
   "source": [
    "'''\n",
    "Book example of switching what value a defined class is sorted by\n",
    "'''\n",
    "\n",
    "class Student:\n",
    "    def __init__(self, name: str, grade_point_average: float) -> None:\n",
    "        self.name = name\n",
    "        self.grade_point_average = grade_point_average\n",
    "    \n",
    "    def __lt__(self, other: 'Student') -> bool:\n",
    "        # Default sorts by student name\n",
    "        return self.name < other.name\n",
    "    \n",
    "    def __str__(self):\n",
    "        return f'{self.name}\\t{self.grade_point_average}'\n",
    "\n",
    "    \n",
    "students = [\n",
    "    Student('A', 4.0),\n",
    "    Student('B', 3.0),\n",
    "    Student('C', 2.0),\n",
    "    Student('D', 3.2)\n",
    "]\n",
    "\n",
    "# Sort according to __lt__ defined in Student. students remained unchanged.\n",
    "students_sort_by_name = sorted(students)\n",
    "\n",
    "# Sort students in-place by grade_point_average.\n",
    "students.sort(key=lambda student: student.grade_point_average)"
   ]
  },
  {
   "cell_type": "code",
   "execution_count": 10,
   "id": "5f796843",
   "metadata": {},
   "outputs": [
    {
     "name": "stdout",
     "output_type": "stream",
     "text": [
      "A\t4.0\n",
      "B\t3.0\n",
      "C\t2.0\n",
      "D\t3.2\n"
     ]
    }
   ],
   "source": [
    "for s in students_sort_by_name:\n",
    "    print(s)"
   ]
  },
  {
   "cell_type": "code",
   "execution_count": 11,
   "id": "4c3603c8",
   "metadata": {},
   "outputs": [
    {
     "name": "stdout",
     "output_type": "stream",
     "text": [
      "C\t2.0\n",
      "B\t3.0\n",
      "D\t3.2\n",
      "A\t4.0\n"
     ]
    }
   ],
   "source": [
    "# default for sort is ascending order\n",
    "for s in students:\n",
    "    print(s)"
   ]
  },
  {
   "cell_type": "markdown",
   "id": "daaae5e6",
   "metadata": {},
   "source": [
    "**Question 13.1**: Computer the intersection of two sorted arrays"
   ]
  },
  {
   "cell_type": "code",
   "execution_count": 14,
   "id": "35f93465",
   "metadata": {},
   "outputs": [],
   "source": [
    "'''\n",
    "Since the inputs are already sorted, one method of looking for like\n",
    "    items is by using a pointer for each list. As the pointer traverses\n",
    "    the lists, they compare the items and only move when the items are\n",
    "    not the same.\n",
    "If the items are the same, that items is added to the returning array.\n",
    "\n",
    "Time Complexity: O(n) with n being the length of the longer list. This is worst\n",
    "    case scenario since the last item of the shorter list can be larger than the\n",
    "    rest of the longer list.\n",
    "Space Complexity: O(C) with C being the number of like items in the two lists.\n",
    "'''\n",
    "\n",
    "def sorted_arrays_intersection(A: list[int], B: list[int]) -> list[int]:\n",
    "    # Create the array that'll be returned\n",
    "    crossed = []\n",
    "    i = 0\n",
    "    j = 0\n",
    "    \n",
    "    while i < len(A) and j < len(B):\n",
    "        if A[i] == B[j]:\n",
    "            if not crossed:\n",
    "                crossed.append(A[i])\n",
    "            if A[i] != crossed[-1]:\n",
    "                crossed.append(A[i])\n",
    "            i += 1\n",
    "            j += 1\n",
    "        elif A[i] > B[j]:\n",
    "            j += 1\n",
    "        else: # A[i] < B[j]\n",
    "            i += 1\n",
    "    \n",
    "    return crossed"
   ]
  },
  {
   "cell_type": "code",
   "execution_count": 15,
   "id": "d917d920",
   "metadata": {},
   "outputs": [
    {
     "data": {
      "text/plain": [
       "[5, 6, 8]"
      ]
     },
     "execution_count": 15,
     "metadata": {},
     "output_type": "execute_result"
    }
   ],
   "source": [
    "A = [2, 3, 3, 5, 5, 6, 7, 7, 8, 12]\n",
    "B = [5, 5, 6, 8, 8, 9, 10, 10]\n",
    "\n",
    "sorted_arrays_intersection(A, B)"
   ]
  },
  {
   "cell_type": "markdown",
   "id": "b745b4c1",
   "metadata": {},
   "source": [
    "The two ways shown in the book are brute force (O(nm)) and using a bisect search of one array for every input in the other (O(mlogn)). \n",
    "The last method shown is almost identical to mine with one simplification of the code but no difference runtime wise.\n",
    "The difference is below:"
   ]
  },
  {
   "cell_type": "code",
   "execution_count": null,
   "id": "00a1e559",
   "metadata": {},
   "outputs": [],
   "source": [
    "# WHAT I HAD\n",
    "if not crossed:\n",
    "    crossed.append(A[i])\n",
    "if A[i]"
   ]
  },
  {
   "cell_type": "markdown",
   "id": "9f695377",
   "metadata": {},
   "source": [
    "**Question 13.2**: Merge two sorted arrays"
   ]
  },
  {
   "cell_type": "markdown",
   "id": "7ea8a770",
   "metadata": {},
   "source": [
    "Write a program which takes as input two sorted arrays of integers, and updates the first to the combined entries of the two arrays in sorted order. Assume the first array has enough empty entries to hold the end result.\n",
    "\n",
    "*hint*: Avoid repeatedly moving entries\n",
    "\n",
    "If we can assume that the first array has enough space to hold both results, we can use pointers to compare and then adjust the first list to either add a val from list two or move fromm list one. One pointer will point at the space that we'll write the value to and two pointers will point at list one and two to compare values. Once we reach the end (or rather beginning since we'll be decrementing) of list two, we can stop since the rest of list 1 is already in order. if we reach the end of list 1 first, we'll just transfer over the rest of list two.\n",
    "\n",
    "- Time: O(n+m) where n is the size of list 1 and m is the size of list 2\n",
    "- Space: O(1) since list one already had the space that we need allocated."
   ]
  },
  {
   "cell_type": "code",
   "execution_count": 1,
   "id": "85a23b9f",
   "metadata": {},
   "outputs": [],
   "source": [
    "def merge_two_sorted_arrays(A: list[int], p1: int, B: list[int]) -> list[int]:\n",
    "    write, p2 = len(A) + len(B) - 1, len(B) - 1\n",
    "    \n",
    "    while write >= 0:\n",
    "        if p2 < 0:\n",
    "            return A\n",
    "        if p1 < 0:\n",
    "            A[write] = B[p2]\n",
    "            p2 -= 1\n",
    "        elif A[p1] > B[p2]:\n",
    "            A[write] = A[p1]\n",
    "            p1 -= 1\n",
    "        else: # A[p1] <= B[p2]\n",
    "            A[write] = B[p2]\n",
    "            p2 -= 1\n",
    "        write -= 1\n",
    "    return A"
   ]
  },
  {
   "cell_type": "markdown",
   "id": "5d872d36",
   "metadata": {},
   "source": [
    "The book solution has the same idea as me, using pointers to write and compare values to the first list. There are, however, a few differences which don't make much difference to runtime or spacetime. One is the assumption that the last index is passed already in the arguments and the second is using a second while loop to negate the need for some of the conditional statements I have in my answer."
   ]
  },
  {
   "cell_type": "code",
   "execution_count": 3,
   "id": "5abef8ce",
   "metadata": {},
   "outputs": [],
   "source": [
    "# book solution\n",
    "def merge_two_sorted_arrays(A: list[int], m: int, B: list[int],\n",
    "                           n: int) -> None:\n",
    "    # m and n are the size of the written array, not last index\n",
    "    a, b, write_idx = m - 1, n - 1, m + n - 1\n",
    "    while a >= 0 and b >= 0:\n",
    "        if A[a] > B[b]:\n",
    "            A[write_idx] = A[a]\n",
    "            a -= 1\n",
    "        else:\n",
    "            A[write_idx] = B[b]\n",
    "            b -= 1\n",
    "        write_idx -= 1\n",
    "    # this loop is only if we reached the end of A before the end of B\n",
    "    while b >= 0:\n",
    "        A[write_idx] = B[b]\n",
    "        write_idx, b = write_idx - 1, b - 1"
   ]
  },
  {
   "cell_type": "code",
   "execution_count": null,
   "id": "c172e339",
   "metadata": {},
   "outputs": [],
   "source": []
  }
 ],
 "metadata": {
  "kernelspec": {
   "display_name": "Python 3 (ipykernel)",
   "language": "python",
   "name": "python3"
  },
  "language_info": {
   "codemirror_mode": {
    "name": "ipython",
    "version": 3
   },
   "file_extension": ".py",
   "mimetype": "text/x-python",
   "name": "python",
   "nbconvert_exporter": "python",
   "pygments_lexer": "ipython3",
   "version": "3.9.7"
  }
 },
 "nbformat": 4,
 "nbformat_minor": 5
}
