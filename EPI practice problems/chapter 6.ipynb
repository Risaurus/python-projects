{
 "cells": [
  {
   "cell_type": "markdown",
   "id": "43e72b52",
   "metadata": {},
   "source": [
    "# Strings"
   ]
  },
  {
   "cell_type": "markdown",
   "id": "30d723a3",
   "metadata": {},
   "source": [
    "**Question 6.1**: Interconvert strings and integers"
   ]
  },
  {
   "cell_type": "markdown",
   "id": "c62222c2",
   "metadata": {},
   "source": [
    "Implement methods that take a string representing an integer and return the corresponding integer, and vice versa.\n",
    "Needs to handle negative integers.\n",
    "Strings rep-ing ints will have \"+\" or \"-\" preceeding the number, ints to strings don't need to add \"+\" to positive ints.\n",
    "\n",
    "*hint*: Build the result one digit at a time.\n",
    "\n",
    "\n",
    "For int to str, we'll take the digits backwards and input them backward into a list. The end of the list will have a '-' if the int is less than 0. Then we'll return the list reversed and combined into a str.\n",
    "For str to int, we'll read it char by char and use arithmetic to correctly add that char (past the first index since that'll be a positive or negative indicator) to an int variable.\n",
    "\n",
    "Time complexity: O(n) where n is the number of digits (and sign) or the int or str\n",
    "Space complexity: O(1)"
   ]
  },
  {
   "cell_type": "code",
   "execution_count": 3,
   "id": "a297ddf2",
   "metadata": {},
   "outputs": [],
   "source": [
    "def str_to_int(n: str) -> int:\n",
    "    num = 0\n",
    "    sign = 1 if n[0] == \"+\" else -1\n",
    "    for i in range(1, len(n)):\n",
    "        x = ord(str[i]) - ord('0')\n",
    "        num = (num * 10) + x\n",
    "    return sign * num\n",
    "    \n",
    "    \n",
    "    \n",
    "def int_to_str(n: int) -> str:\n",
    "    if n < 0:\n",
    "        sign = '-'\n",
    "        n *= -1\n",
    "    else:\n",
    "        sign = '+'\n",
    "    \n",
    "    convert = []\n",
    "    while n:\n",
    "        convert.append(n % 10)\n",
    "        n //= 10\n",
    "    \n",
    "    return sign + '' + reversed(convert)"
   ]
  },
  {
   "cell_type": "markdown",
   "id": "235f4cc2",
   "metadata": {},
   "source": [
    "The book solution is essentially the same, though their str to int conversion is more compact by using a lambda function."
   ]
  },
  {
   "cell_type": "code",
   "execution_count": 4,
   "id": "04639828",
   "metadata": {},
   "outputs": [],
   "source": [
    "def string_to_int(s: str) -> int:\n",
    "    return (-1 if s[0] == '-' else 1) * functools.reduce(\n",
    "        lambda running_sum, c: running_sum * 10 + string.digits.index(c),\n",
    "        s[s[0] in '-+':], 0)"
   ]
  },
  {
   "cell_type": "markdown",
   "id": "8c649ac2",
   "metadata": {},
   "source": [
    "**Question 6.2**: Base conversion"
   ]
  },
  {
   "cell_type": "code",
   "execution_count": null,
   "id": "4e53f6e4",
   "metadata": {},
   "outputs": [],
   "source": []
  }
 ],
 "metadata": {
  "kernelspec": {
   "display_name": "Python 3 (ipykernel)",
   "language": "python",
   "name": "python3"
  },
  "language_info": {
   "codemirror_mode": {
    "name": "ipython",
    "version": 3
   },
   "file_extension": ".py",
   "mimetype": "text/x-python",
   "name": "python",
   "nbconvert_exporter": "python",
   "pygments_lexer": "ipython3",
   "version": "3.9.7"
  }
 },
 "nbformat": 4,
 "nbformat_minor": 5
}
