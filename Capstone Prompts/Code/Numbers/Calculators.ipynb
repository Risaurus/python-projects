{
 "cells": [
  {
   "cell_type": "markdown",
   "id": "67858251",
   "metadata": {},
   "source": [
    "**Find Cost of Tile to Cover W x H Floor** - Calculate the total cost of tile it would take to cover a floor plan of width and height, using a cost entered by the user."
   ]
  },
  {
   "cell_type": "code",
   "execution_count": 1,
   "id": "4a0f7823",
   "metadata": {},
   "outputs": [],
   "source": [
    "def tileCost(width, height, cost):\n",
    "    \"\"\"\n",
    "    Calculate the cost of tiling a W x H floor\n",
    "    assumes no gaps in the area\n",
    "    will return the result\n",
    "    \"\"\"\n",
    "    #calculate how many tiles will be used\n",
    "    area = width * height\n",
    "    \n",
    "    #multiply the amount of tiles with the cost of each tile.\n",
    "    return area * cost"
   ]
  },
  {
   "cell_type": "code",
   "execution_count": 2,
   "id": "c6b43f11",
   "metadata": {},
   "outputs": [
    {
     "data": {
      "text/plain": [
       "56.25"
      ]
     },
     "execution_count": 2,
     "metadata": {},
     "output_type": "execute_result"
    }
   ],
   "source": [
    "tileCost(5, 5, 2.25)"
   ]
  },
  {
   "cell_type": "markdown",
   "id": "1cdceff2",
   "metadata": {},
   "source": [
    "**Mortgage Calculator** - Calculate the monthly payments of a fixed term mortgage over given Nth terms at a given interest rate. Also figure out how long it will take the user to pay back the loan. For added complexity, add an option for users to select the compounding interval (Monthly, Weekly, Daily, Continually)."
   ]
  },
  {
   "cell_type": "code",
   "execution_count": null,
   "id": "480cf977",
   "metadata": {},
   "outputs": [],
   "source": [
    "def mortgageCalc(mortgage, terms, interest, compounding = None):\n",
    "    if compounding == None:\n",
    "        "
   ]
  }
 ],
 "metadata": {
  "kernelspec": {
   "display_name": "Python 3 (ipykernel)",
   "language": "python",
   "name": "python3"
  },
  "language_info": {
   "codemirror_mode": {
    "name": "ipython",
    "version": 3
   },
   "file_extension": ".py",
   "mimetype": "text/x-python",
   "name": "python",
   "nbconvert_exporter": "python",
   "pygments_lexer": "ipython3",
   "version": "3.9.7"
  }
 },
 "nbformat": 4,
 "nbformat_minor": 5
}
