{
 "cells": [
  {
   "cell_type": "markdown",
   "id": "67858251",
   "metadata": {},
   "source": [
    "**Find Cost of Tile to Cover W x H Floor** - Calculate the total cost of tile it would take to cover a floor plan of width and height, using a cost entered by the user."
   ]
  },
  {
   "cell_type": "code",
   "execution_count": 1,
   "id": "4a0f7823",
   "metadata": {},
   "outputs": [],
   "source": [
    "def tileCost(width, height, cost):\n",
    "    \"\"\"\n",
    "    Calculate the cost of tiling a W x H floor\n",
    "    assumes no gaps in the area\n",
    "    will return the result\n",
    "    \"\"\"\n",
    "    #calculate how many tiles will be used\n",
    "    area = width * height\n",
    "    \n",
    "    #multiply the amount of tiles with the cost of each tile.\n",
    "    return area * cost"
   ]
  },
  {
   "cell_type": "code",
   "execution_count": 2,
   "id": "c6b43f11",
   "metadata": {},
   "outputs": [
    {
     "data": {
      "text/plain": [
       "56.25"
      ]
     },
     "execution_count": 2,
     "metadata": {},
     "output_type": "execute_result"
    }
   ],
   "source": [
    "tileCost(5, 5, 2.25)"
   ]
  },
  {
   "cell_type": "markdown",
   "id": "1cdceff2",
   "metadata": {},
   "source": [
    "**Mortgage Calculator** - Calculate the monthly payments of a fixed term mortgage over given Nth terms at a given interest rate. Also figure out how long it will take the user to pay back the loan. For added complexity, add an option for users to select the compounding interval (Monthly, Weekly, Daily, Continually)."
   ]
  },
  {
   "cell_type": "code",
   "execution_count": null,
   "id": "480cf977",
   "metadata": {},
   "outputs": [],
   "source": [
    "def mortgageCalc(mortgage, terms, interest, compounding = None):\n",
    "    if compounding == None:\n",
    "        "
   ]
  },
  {
   "cell_type": "code",
   "execution_count": null,
   "id": "ea2b99cc",
   "metadata": {},
   "outputs": [],
   "source": []
  },
  {
   "cell_type": "markdown",
   "id": "0a101dff",
   "metadata": {},
   "source": [
    "**Change Return Program** - The user enters a cost and then the amount of money given. The program will figure out the change and the number of quarters, dimes, nickels, pennies needed for the change."
   ]
  },
  {
   "cell_type": "code",
   "execution_count": 9,
   "id": "1a25ac29",
   "metadata": {},
   "outputs": [],
   "source": [
    "def returnChange(cost, paid):\n",
    "    \"\"\"\n",
    "    Calculates and prints the change in quarters, dimes, nickels, and pennies.\n",
    "    Returns:\n",
    "        -1 if invalid payment amount\n",
    "        0 if no change needed\n",
    "        x total amount of change calculated.\n",
    "    \"\"\"\n",
    "    #check to see if change is needed.\n",
    "    if paid < cost:\n",
    "        print('Not enough money was given.')\n",
    "        return -1\n",
    "    if paid == cost:\n",
    "        print('Exact amount paid, no change needed.')\n",
    "        return 0\n",
    "    \n",
    "    change = paid-cost\n",
    "    print(f\"Quarter(s): {int(change/.25)}\")\n",
    "    remaining = change - int(change/.25)*.25\n",
    "    print(f\"Dime(s): {int(remaining/.1)}\")\n",
    "    remaining = remaining - int(remaining/.1)*.1\n",
    "    print(f\"Nickel(s): {int(remaining/.05)}\")\n",
    "    remaining = remaining - int(remaining/.05)*.05\n",
    "    print(f\"Pennie(s): {int(remaining/.01)}\")\n",
    "    \n",
    "    return change"
   ]
  },
  {
   "cell_type": "code",
   "execution_count": 4,
   "id": "15f4bfcb",
   "metadata": {},
   "outputs": [
    {
     "name": "stdout",
     "output_type": "stream",
     "text": [
      "Not enough money was given.\n"
     ]
    },
    {
     "data": {
      "text/plain": [
       "-1"
      ]
     },
     "execution_count": 4,
     "metadata": {},
     "output_type": "execute_result"
    }
   ],
   "source": [
    "returnChange(100, 3.24)"
   ]
  },
  {
   "cell_type": "code",
   "execution_count": 5,
   "id": "8385ec48",
   "metadata": {},
   "outputs": [
    {
     "name": "stdout",
     "output_type": "stream",
     "text": [
      "Exact amount paid, no change needed.\n"
     ]
    },
    {
     "data": {
      "text/plain": [
       "0"
      ]
     },
     "execution_count": 5,
     "metadata": {},
     "output_type": "execute_result"
    }
   ],
   "source": [
    "returnChange(100,100)"
   ]
  },
  {
   "cell_type": "code",
   "execution_count": 11,
   "id": "cb1cab8a",
   "metadata": {},
   "outputs": [
    {
     "name": "stdout",
     "output_type": "stream",
     "text": [
      "Quarter(s): 10\n",
      "Dime(s): 1\n",
      "Nickel(s): 1\n",
      "Pennie(s): 1\n"
     ]
    },
    {
     "data": {
      "text/plain": [
       "2.66"
      ]
     },
     "execution_count": 11,
     "metadata": {},
     "output_type": "execute_result"
    }
   ],
   "source": [
    "returnChange(10,12.66)"
   ]
  },
  {
   "cell_type": "code",
   "execution_count": null,
   "id": "8879bd10",
   "metadata": {},
   "outputs": [],
   "source": []
  }
 ],
 "metadata": {
  "kernelspec": {
   "display_name": "Python 3 (ipykernel)",
   "language": "python",
   "name": "python3"
  },
  "language_info": {
   "codemirror_mode": {
    "name": "ipython",
    "version": 3
   },
   "file_extension": ".py",
   "mimetype": "text/x-python",
   "name": "python",
   "nbconvert_exporter": "python",
   "pygments_lexer": "ipython3",
   "version": "3.9.7"
  }
 },
 "nbformat": 4,
 "nbformat_minor": 5
}
