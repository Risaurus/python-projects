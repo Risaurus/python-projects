{
 "cells": [
  {
   "cell_type": "code",
   "execution_count": 2,
   "id": "36c9b423",
   "metadata": {},
   "outputs": [],
   "source": [
    "import math"
   ]
  },
  {
   "cell_type": "code",
   "execution_count": 3,
   "id": "44986a85",
   "metadata": {},
   "outputs": [],
   "source": [
    "def piToNth(n):\n",
    "    \"\"\"\n",
    "    This function will print pi up to the desired Nth decimal place.\n",
    "    N must be between 0 and 15\n",
    "    Assumes checking was done outside of function.\n",
    "    Will return exception if invalid input.\n",
    "    \"\"\"\n",
    "    if n < 0 or n > 15:\n",
    "        raise ValueError('input must be >= 0 and <= 15')\n",
    "    \n",
    "    pi = round(math.pi, n)\n",
    "    print(pi)\n",
    "    return pi"
   ]
  },
  {
   "cell_type": "code",
   "execution_count": 5,
   "id": "d936a5e5",
   "metadata": {},
   "outputs": [
    {
     "name": "stdout",
     "output_type": "stream",
     "text": [
      "3.141592653589793\n"
     ]
    },
    {
     "data": {
      "text/plain": [
       "3.141592653589793"
      ]
     },
     "execution_count": 5,
     "metadata": {},
     "output_type": "execute_result"
    }
   ],
   "source": [
    "piToNth(15)"
   ]
  },
  {
   "cell_type": "code",
   "execution_count": 6,
   "id": "9324ebad",
   "metadata": {},
   "outputs": [],
   "source": [
    "def eToNth(n):\n",
    "    \"\"\"\n",
    "    This function will print e (Euler's number) up to the desired Nth decimal place.\n",
    "    N must be between 0 and 15\n",
    "    Assumes checking was done outside of function.\n",
    "    Will return exception if invalid input.\n",
    "    \"\"\"\n",
    "    if n < 0 or n > 15:\n",
    "        raise ValueError('input must be >= 0 and <= 15')\n",
    "    \n",
    "    e = round(math.e, n)\n",
    "    print(e)\n",
    "    return e"
   ]
  },
  {
   "cell_type": "code",
   "execution_count": 7,
   "id": "78ada956",
   "metadata": {},
   "outputs": [
    {
     "name": "stdout",
     "output_type": "stream",
     "text": [
      "2.72\n"
     ]
    },
    {
     "data": {
      "text/plain": [
       "2.72"
      ]
     },
     "execution_count": 7,
     "metadata": {},
     "output_type": "execute_result"
    }
   ],
   "source": [
    "eToNth(2)"
   ]
  },
  {
   "cell_type": "code",
   "execution_count": 20,
   "id": "6ce98b57",
   "metadata": {},
   "outputs": [],
   "source": [
    "def fibonacci(n):\n",
    "    \"\"\"\n",
    "    This function will generate the fibonacci sequence up to the nth number.\n",
    "    The sequence will be printed and the last number will be returned.\n",
    "    \"\"\"\n",
    "    if n <= 0:\n",
    "        raise ValueError('Input cannot be less than 1')\n",
    "    if isinstance(n, int) == False:\n",
    "        raise ValueError('Invalid input type')\n",
    "    \n",
    "    nums = []\n",
    "    nums.append(0)\n",
    "    if n == 1:\n",
    "        print(nums)\n",
    "        return 0\n",
    "    nums.append(1)\n",
    "    if n == 2:\n",
    "        print(nums)\n",
    "        return 1\n",
    "    \n",
    "    for k in range(1,n-1):\n",
    "        nums.append(nums[k-1]+nums[k])\n",
    "    \n",
    "    print(nums)\n",
    "    return(nums[len(nums)-1])"
   ]
  },
  {
   "cell_type": "code",
   "execution_count": 22,
   "id": "e12beca3",
   "metadata": {},
   "outputs": [
    {
     "name": "stdout",
     "output_type": "stream",
     "text": [
      "[0, 1, 1, 2, 3, 5, 8, 13, 21, 34]\n"
     ]
    },
    {
     "data": {
      "text/plain": [
       "34"
      ]
     },
     "execution_count": 22,
     "metadata": {},
     "output_type": "execute_result"
    }
   ],
   "source": [
    "fibonacci(10)"
   ]
  },
  {
   "cell_type": "code",
   "execution_count": 43,
   "id": "75adf141",
   "metadata": {},
   "outputs": [],
   "source": [
    "def primeFactors(num):\n",
    "    \"\"\"\n",
    "    This function will gives you all the prime factors of NUM\n",
    "    if NUM is 0 or 1, it will simply return the number back.\n",
    "    else, prints out all the prime factors in a list.\n",
    "    assumes num is an int.\n",
    "    \"\"\"\n",
    "    if num < 0:\n",
    "        raise ValueError('Input cannot be a negative number')\n",
    "    if num < 2:\n",
    "        return num\n",
    "    if num == 2:\n",
    "        print('2')\n",
    "        return\n",
    "    \n",
    "    primes = [2]\n",
    "    i = 3;\n",
    "    while i <= num/2:\n",
    "        for k in primes:\n",
    "            if i % k == 0:\n",
    "                # i is not prime\n",
    "                break;\n",
    "            if k == primes[len(primes)-1]:\n",
    "                # i is prime since wasn't divisible by any previous primes\n",
    "                primes.append(i)\n",
    "        i += 2 #skips all even numbers since those aren't prime.\n",
    "    \n",
    "    temp = num\n",
    "    factors = []\n",
    "    while temp > 1:\n",
    "        if temp in primes:\n",
    "            factors.append(temp)\n",
    "            break\n",
    "        for n in primes:\n",
    "            if temp % n == 0:\n",
    "                factors.append((n))\n",
    "                temp = int(temp / n)\n",
    "                break\n",
    "        \n",
    "    print(factors)"
   ]
  },
  {
   "cell_type": "code",
   "execution_count": 44,
   "id": "6d463e2f",
   "metadata": {},
   "outputs": [
    {
     "name": "stdout",
     "output_type": "stream",
     "text": [
      "[2, 5]\n"
     ]
    }
   ],
   "source": [
    "primeFactors(10)"
   ]
  },
  {
   "cell_type": "code",
   "execution_count": 45,
   "id": "5a0d5037",
   "metadata": {},
   "outputs": [
    {
     "name": "stdout",
     "output_type": "stream",
     "text": [
      "[2, 2, 5, 5]\n"
     ]
    }
   ],
   "source": [
    "primeFactors(100)"
   ]
  },
  {
   "cell_type": "code",
   "execution_count": 46,
   "id": "a5f07a86",
   "metadata": {},
   "outputs": [],
   "source": [
    "def generatePrime():\n",
    "    \"\"\"\n",
    "    A generator for prime numbers that'll iterate through all the primes numbers starting from 2\n",
    "    \"\"\"\n",
    "    primes = [2]\n",
    "    n = 2\n",
    "    while True:\n",
    "        if n == 1:\n",
    "            n += 1\n",
    "            yield 2\n",
    "        else:\n",
    "            for i in range(len(primes)):\n",
    "                if n % primes[i] == 0:\n",
    "                    n += 2\n",
    "                    break\n",
    "                if i == len(primes) - 1:\n",
    "                    n += 2\n",
    "                    primes.append(n)\n",
    "                    yield n-2"
   ]
  },
  {
   "cell_type": "code",
   "execution_count": null,
   "id": "2540e412",
   "metadata": {},
   "outputs": [],
   "source": [
    "prime = generatePrime()"
   ]
  }
 ],
 "metadata": {
  "kernelspec": {
   "display_name": "Python 3 (ipykernel)",
   "language": "python",
   "name": "python3"
  },
  "language_info": {
   "codemirror_mode": {
    "name": "ipython",
    "version": 3
   },
   "file_extension": ".py",
   "mimetype": "text/x-python",
   "name": "python",
   "nbconvert_exporter": "python",
   "pygments_lexer": "ipython3",
   "version": "3.9.7"
  }
 },
 "nbformat": 4,
 "nbformat_minor": 5
}
