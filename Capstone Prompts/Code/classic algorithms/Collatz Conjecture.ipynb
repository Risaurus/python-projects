{
 "cells": [
  {
   "cell_type": "markdown",
   "id": "a6f551de",
   "metadata": {},
   "source": [
    "**Collatz Conjecture** - Start with a number n > 1. Find the number of steps it takes to reach one using the following process: If n is even, divide it by 2. If n is odd, multiply it by 3 and add 1."
   ]
  },
  {
   "cell_type": "markdown",
   "id": "8a220c3f",
   "metadata": {},
   "source": [
    "*with loops*"
   ]
  },
  {
   "cell_type": "code",
   "execution_count": 1,
   "id": "b4ce5b07",
   "metadata": {},
   "outputs": [],
   "source": [
    "def collatz(n):\n",
    "    #double check that n is greater than 1\n",
    "    #if not, return n\n",
    "    if n <= 1:\n",
    "        return n\n",
    "    \n",
    "    count = 0\n",
    "    while n > 1:\n",
    "        #if even, divide by 2\n",
    "        if n%2 == 0:\n",
    "            n /= 2\n",
    "        #if odd, multply by 3 and add 1\n",
    "        else:\n",
    "            n = n * 3 + 1\n",
    "        count += 1\n",
    "    \n",
    "    return count"
   ]
  },
  {
   "cell_type": "code",
   "execution_count": 2,
   "id": "d4f9af29",
   "metadata": {},
   "outputs": [
    {
     "data": {
      "text/plain": [
       "7"
      ]
     },
     "execution_count": 2,
     "metadata": {},
     "output_type": "execute_result"
    }
   ],
   "source": [
    "collatz(3)"
   ]
  },
  {
   "cell_type": "markdown",
   "id": "c34dce01",
   "metadata": {},
   "source": [
    "*with recursion*"
   ]
  },
  {
   "cell_type": "code",
   "execution_count": 3,
   "id": "876279a6",
   "metadata": {},
   "outputs": [],
   "source": [
    "def collatz2(n, count = 0):\n",
    "    #the recursive version!\n",
    "    \n",
    "    if n < 1: return n\n",
    "    if n == 1: return count\n",
    "    \n",
    "    if n%2 == 0:\n",
    "        return collatz2(n/2, count + 1)\n",
    "    else:\n",
    "        return collatz2((n*3)+1, count + 1)"
   ]
  },
  {
   "cell_type": "code",
   "execution_count": 4,
   "id": "31cafe88",
   "metadata": {},
   "outputs": [
    {
     "data": {
      "text/plain": [
       "7"
      ]
     },
     "execution_count": 4,
     "metadata": {},
     "output_type": "execute_result"
    }
   ],
   "source": [
    "collatz2(3)"
   ]
  },
  {
   "cell_type": "code",
   "execution_count": 5,
   "id": "0aeb9c75",
   "metadata": {},
   "outputs": [
    {
     "data": {
      "text/plain": [
       "2"
      ]
     },
     "execution_count": 5,
     "metadata": {},
     "output_type": "execute_result"
    }
   ],
   "source": [
    "collatz2(4)"
   ]
  },
  {
   "cell_type": "code",
   "execution_count": null,
   "id": "a3b138b5",
   "metadata": {},
   "outputs": [],
   "source": []
  }
 ],
 "metadata": {
  "kernelspec": {
   "display_name": "Python 3 (ipykernel)",
   "language": "python",
   "name": "python3"
  },
  "language_info": {
   "codemirror_mode": {
    "name": "ipython",
    "version": 3
   },
   "file_extension": ".py",
   "mimetype": "text/x-python",
   "name": "python",
   "nbconvert_exporter": "python",
   "pygments_lexer": "ipython3",
   "version": "3.9.7"
  }
 },
 "nbformat": 4,
 "nbformat_minor": 5
}
