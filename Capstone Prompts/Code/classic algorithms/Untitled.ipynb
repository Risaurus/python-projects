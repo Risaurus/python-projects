{
 "cells": [
  {
   "cell_type": "markdown",
   "id": "b857e7bd",
   "metadata": {},
   "source": [
    "## Sieve of Eratosthenes\n",
    "The sieve of Eratosthenes is one of the most efficient ways to find all of the smaller primes (below 10 million or so)"
   ]
  },
  {
   "cell_type": "code",
   "execution_count": null,
   "id": "d54b99da",
   "metadata": {},
   "outputs": [],
   "source": [
    "def eratosthenes(n):\n",
    "    \"\"\"\n",
    "    finds all primes up to n using the sieve of Eratosthenes\n",
    "    returns list of those primes\n",
    "    \"\"\"\n",
    "    #first generate a list from numbers 2 to n\n",
    "    numbers = range(2, n+1)\n",
    "    \n",
    "    prime_index = 0\n",
    "    while prime_index < len(numbers)-1:\n",
    "        prime = numbers[prime_index]\n",
    "        i = prime_index + 1\n",
    "        while i < len(numbers):\n",
    "            if numbers[i]%prime == 0:\n",
    "                numbers.pop(i)\n",
    "            else:\n",
    "                i += 1\n",
    "        prime_index += 1"
   ]
  }
 ],
 "metadata": {
  "kernelspec": {
   "display_name": "Python 3 (ipykernel)",
   "language": "python",
   "name": "python3"
  },
  "language_info": {
   "codemirror_mode": {
    "name": "ipython",
    "version": 3
   },
   "file_extension": ".py",
   "mimetype": "text/x-python",
   "name": "python",
   "nbconvert_exporter": "python",
   "pygments_lexer": "ipython3",
   "version": "3.9.7"
  }
 },
 "nbformat": 4,
 "nbformat_minor": 5
}
