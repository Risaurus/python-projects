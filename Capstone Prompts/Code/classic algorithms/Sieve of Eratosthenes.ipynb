{
 "cells": [
  {
   "cell_type": "markdown",
   "id": "b857e7bd",
   "metadata": {},
   "source": [
    "## Sieve of Eratosthenes\n",
    "The sieve of Eratosthenes is one of the most efficient ways to find all of the smaller primes (below 10 million or so)"
   ]
  },
  {
   "cell_type": "code",
   "execution_count": 2,
   "id": "d54b99da",
   "metadata": {},
   "outputs": [],
   "source": [
    "def eratosthenes(n):\n",
    "    \"\"\"\n",
    "    finds all primes up to n using the sieve of Eratosthenes\n",
    "    returns list of those primes\n",
    "    \"\"\"\n",
    "    #first generate a list from numbers 2 to n\n",
    "    numbers = range(2, n+1)\n",
    "    \n",
    "    prime_index = 0\n",
    "    while prime_index < len(numbers)-1:\n",
    "        prime = numbers[prime_index]\n",
    "        i = prime_index + 1\n",
    "        while i < len(numbers):\n",
    "            if numbers[i]%prime == 0:\n",
    "                numbers.pop(i)\n",
    "            else:\n",
    "                i += 1\n",
    "        prime_index += 1\n",
    "        \n",
    "    return numbers"
   ]
  },
  {
   "cell_type": "code",
   "execution_count": 4,
   "id": "2321b362",
   "metadata": {},
   "outputs": [
    {
     "ename": "AttributeError",
     "evalue": "'range' object has no attribute 'pop'",
     "output_type": "error",
     "traceback": [
      "\u001b[1;31m---------------------------------------------------------------------------\u001b[0m",
      "\u001b[1;31mAttributeError\u001b[0m                            Traceback (most recent call last)",
      "\u001b[1;32m<ipython-input-4-c454847a9c00>\u001b[0m in \u001b[0;36m<module>\u001b[1;34m\u001b[0m\n\u001b[1;32m----> 1\u001b[1;33m \u001b[0meratosthenes\u001b[0m\u001b[1;33m(\u001b[0m\u001b[1;36m100\u001b[0m\u001b[1;33m)\u001b[0m\u001b[1;33m\u001b[0m\u001b[1;33m\u001b[0m\u001b[0m\n\u001b[0m",
      "\u001b[1;32m<ipython-input-2-2f91f2bc6b11>\u001b[0m in \u001b[0;36meratosthenes\u001b[1;34m(n)\u001b[0m\n\u001b[0;32m     13\u001b[0m         \u001b[1;32mwhile\u001b[0m \u001b[0mi\u001b[0m \u001b[1;33m<\u001b[0m \u001b[0mlen\u001b[0m\u001b[1;33m(\u001b[0m\u001b[0mnumbers\u001b[0m\u001b[1;33m)\u001b[0m\u001b[1;33m:\u001b[0m\u001b[1;33m\u001b[0m\u001b[1;33m\u001b[0m\u001b[0m\n\u001b[0;32m     14\u001b[0m             \u001b[1;32mif\u001b[0m \u001b[0mnumbers\u001b[0m\u001b[1;33m[\u001b[0m\u001b[0mi\u001b[0m\u001b[1;33m]\u001b[0m\u001b[1;33m%\u001b[0m\u001b[0mprime\u001b[0m \u001b[1;33m==\u001b[0m \u001b[1;36m0\u001b[0m\u001b[1;33m:\u001b[0m\u001b[1;33m\u001b[0m\u001b[1;33m\u001b[0m\u001b[0m\n\u001b[1;32m---> 15\u001b[1;33m                 \u001b[0mnumbers\u001b[0m\u001b[1;33m.\u001b[0m\u001b[0mpop\u001b[0m\u001b[1;33m(\u001b[0m\u001b[0mi\u001b[0m\u001b[1;33m)\u001b[0m\u001b[1;33m\u001b[0m\u001b[1;33m\u001b[0m\u001b[0m\n\u001b[0m\u001b[0;32m     16\u001b[0m             \u001b[1;32melse\u001b[0m\u001b[1;33m:\u001b[0m\u001b[1;33m\u001b[0m\u001b[1;33m\u001b[0m\u001b[0m\n\u001b[0;32m     17\u001b[0m                 \u001b[0mi\u001b[0m \u001b[1;33m+=\u001b[0m \u001b[1;36m1\u001b[0m\u001b[1;33m\u001b[0m\u001b[1;33m\u001b[0m\u001b[0m\n",
      "\u001b[1;31mAttributeError\u001b[0m: 'range' object has no attribute 'pop'"
     ]
    }
   ],
   "source": [
    "eratosthenes(100)"
   ]
  },
  {
   "cell_type": "code",
   "execution_count": null,
   "id": "fb658e51",
   "metadata": {},
   "outputs": [],
   "source": []
  }
 ],
 "metadata": {
  "kernelspec": {
   "display_name": "Python 3",
   "language": "python",
   "name": "python3"
  },
  "language_info": {
   "codemirror_mode": {
    "name": "ipython",
    "version": 3
   },
   "file_extension": ".py",
   "mimetype": "text/x-python",
   "name": "python",
   "nbconvert_exporter": "python",
   "pygments_lexer": "ipython3",
   "version": "3.8.8"
  }
 },
 "nbformat": 4,
 "nbformat_minor": 5
}
