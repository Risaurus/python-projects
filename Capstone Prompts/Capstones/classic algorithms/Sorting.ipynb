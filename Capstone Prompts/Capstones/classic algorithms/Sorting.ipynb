{
 "cells": [
  {
   "cell_type": "markdown",
   "id": "da672542",
   "metadata": {},
   "source": [
    "## **Sorting** - Implement two types of sorting algorithms: Merge sort and bubble sort."
   ]
  },
  {
   "cell_type": "markdown",
   "id": "287ee834",
   "metadata": {},
   "source": [
    "**Merge sort**"
   ]
  },
  {
   "cell_type": "code",
   "execution_count": 30,
   "id": "593b60b0",
   "metadata": {},
   "outputs": [],
   "source": [
    "def mergeSort(sortList):\n",
    "    \"\"\"\n",
    "    A recursive mergeSort that assumes the datatype is a list of ints or doubles.\n",
    "    \"\"\"\n",
    "    if len(sortList) == 1:\n",
    "        return sortList\n",
    "    \n",
    "    size = len(sortList)\n",
    "    half = int(size/2)\n",
    "    list1 = []\n",
    "    for i in range(half):\n",
    "        list1.append(sortList[i])\n",
    "    list1 = mergeSort(list1)\n",
    "    #print(list1)\n",
    "    list2 = []\n",
    "    for i in range(half, size):\n",
    "        list2.append(sortList[i])\n",
    "    list2 = mergeSort(list2)\n",
    "    #print(list2)\n",
    "    \n",
    "    p1 = 0\n",
    "    p2 = 0\n",
    "    while p1 < len(list1) or p2 < len(list2):\n",
    "        #merge rest of list2 into end of list1 if reached end of list1\n",
    "        if p1 == len(list1):\n",
    "            list1.extend(list2[p2:])\n",
    "            break\n",
    "        \n",
    "        #break out of loop if no more variables to compare in list2\n",
    "        if p2 == len(list2):\n",
    "            break\n",
    "        \n",
    "        #check if value at index p1 in list1 is greater than p2 in list2\n",
    "        if list1[p1] >= list2[p2]:\n",
    "            #if yes, insert p2 value at p1 index in list1 and increment p2\n",
    "            list1.insert(p1, list2[p2])\n",
    "            p2 += 1\n",
    "            p1 += 1\n",
    "        else:\n",
    "            #if no, increment p1\n",
    "            p1 += 1\n",
    "            \n",
    "    return list1"
   ]
  },
  {
   "cell_type": "code",
   "execution_count": 31,
   "id": "2f3cb888",
   "metadata": {},
   "outputs": [
    {
     "data": {
      "text/plain": [
       "[0, 1, 2, 2, 3, 4, 4, 6]"
      ]
     },
     "execution_count": 31,
     "metadata": {},
     "output_type": "execute_result"
    }
   ],
   "source": [
    "mergeSort([4, 6, 2, 4, 3, 2, 1, 0])"
   ]
  },
  {
   "cell_type": "code",
   "execution_count": 33,
   "id": "2b54ae97",
   "metadata": {},
   "outputs": [
    {
     "data": {
      "text/plain": [
       "[-34, 1, 1, 2, 19, 34, 58, 4592]"
      ]
     },
     "execution_count": 33,
     "metadata": {},
     "output_type": "execute_result"
    }
   ],
   "source": [
    "mergeSort([19,4592, 34, 1, 58, 2, 1, -34])"
   ]
  },
  {
   "cell_type": "markdown",
   "id": "cfc1ba7a",
   "metadata": {},
   "source": [
    "**Bubble Sort**"
   ]
  },
  {
   "cell_type": "code",
   "execution_count": 3,
   "id": "32e8df9f",
   "metadata": {},
   "outputs": [],
   "source": [
    "def bubbleSort(sortList):\n",
    "    \"\"\"\n",
    "    A bubblesort that'll continuous traverse the list to swap elements if they're out of order until no swaps at made.\n",
    "    Assumes sorting a list of ints\n",
    "    \"\"\"\n",
    "    swapped = True\n",
    "    while swapped:\n",
    "        swapped = False\n",
    "        for i in range(len(sortList)-1):\n",
    "            if sortList[i] > sortList[i+1]:\n",
    "                swapped = True\n",
    "                temp = sortList.pop(i+1)\n",
    "                sortList.index[i, temp]\n",
    "        \n",
    "    return sortList"
   ]
  },
  {
   "cell_type": "code",
   "execution_count": 4,
   "id": "77c895a7",
   "metadata": {},
   "outputs": [
    {
     "ename": "TypeError",
     "evalue": "'builtin_function_or_method' object is not subscriptable",
     "output_type": "error",
     "traceback": [
      "\u001b[1;31m---------------------------------------------------------------------------\u001b[0m",
      "\u001b[1;31mTypeError\u001b[0m                                 Traceback (most recent call last)",
      "\u001b[1;32m~\\AppData\\Local\\Temp/ipykernel_9228/3934787231.py\u001b[0m in \u001b[0;36m<module>\u001b[1;34m\u001b[0m\n\u001b[1;32m----> 1\u001b[1;33m \u001b[0mbubbleSort\u001b[0m\u001b[1;33m(\u001b[0m\u001b[1;33m[\u001b[0m\u001b[1;36m4\u001b[0m\u001b[1;33m,\u001b[0m \u001b[1;36m6\u001b[0m\u001b[1;33m,\u001b[0m \u001b[1;36m2\u001b[0m\u001b[1;33m,\u001b[0m \u001b[1;36m4\u001b[0m\u001b[1;33m,\u001b[0m \u001b[1;36m3\u001b[0m\u001b[1;33m,\u001b[0m \u001b[1;36m2\u001b[0m\u001b[1;33m,\u001b[0m \u001b[1;36m1\u001b[0m\u001b[1;33m,\u001b[0m \u001b[1;36m0\u001b[0m\u001b[1;33m]\u001b[0m\u001b[1;33m)\u001b[0m\u001b[1;33m\u001b[0m\u001b[1;33m\u001b[0m\u001b[0m\n\u001b[0m",
      "\u001b[1;32m~\\AppData\\Local\\Temp/ipykernel_9228/3889391783.py\u001b[0m in \u001b[0;36mbubbleSort\u001b[1;34m(sortList)\u001b[0m\n\u001b[0;32m     10\u001b[0m             \u001b[1;32mif\u001b[0m \u001b[0msortList\u001b[0m\u001b[1;33m[\u001b[0m\u001b[0mi\u001b[0m\u001b[1;33m]\u001b[0m \u001b[1;33m>\u001b[0m \u001b[0msortList\u001b[0m\u001b[1;33m[\u001b[0m\u001b[0mi\u001b[0m\u001b[1;33m+\u001b[0m\u001b[1;36m1\u001b[0m\u001b[1;33m]\u001b[0m\u001b[1;33m:\u001b[0m\u001b[1;33m\u001b[0m\u001b[1;33m\u001b[0m\u001b[0m\n\u001b[0;32m     11\u001b[0m                 \u001b[0mswapped\u001b[0m \u001b[1;33m=\u001b[0m \u001b[1;32mTrue\u001b[0m\u001b[1;33m\u001b[0m\u001b[1;33m\u001b[0m\u001b[0m\n\u001b[1;32m---> 12\u001b[1;33m                 \u001b[0mtemp\u001b[0m \u001b[1;33m=\u001b[0m \u001b[0msortList\u001b[0m\u001b[1;33m.\u001b[0m\u001b[0mpop\u001b[0m\u001b[1;33m[\u001b[0m\u001b[0mi\u001b[0m\u001b[1;33m+\u001b[0m\u001b[1;36m1\u001b[0m\u001b[1;33m]\u001b[0m\u001b[1;33m\u001b[0m\u001b[1;33m\u001b[0m\u001b[0m\n\u001b[0m\u001b[0;32m     13\u001b[0m                 \u001b[0msortList\u001b[0m\u001b[1;33m.\u001b[0m\u001b[0mindex\u001b[0m\u001b[1;33m[\u001b[0m\u001b[0mi\u001b[0m\u001b[1;33m,\u001b[0m \u001b[0mtemp\u001b[0m\u001b[1;33m]\u001b[0m\u001b[1;33m\u001b[0m\u001b[1;33m\u001b[0m\u001b[0m\n\u001b[0;32m     14\u001b[0m \u001b[1;33m\u001b[0m\u001b[0m\n",
      "\u001b[1;31mTypeError\u001b[0m: 'builtin_function_or_method' object is not subscriptable"
     ]
    }
   ],
   "source": [
    "bubbleSort([4, 6, 2, 4, 3, 2, 1, 0])"
   ]
  },
  {
   "cell_type": "code",
   "execution_count": null,
   "id": "aa8409ac",
   "metadata": {},
   "outputs": [],
   "source": []
  }
 ],
 "metadata": {
  "kernelspec": {
   "display_name": "Python 3 (ipykernel)",
   "language": "python",
   "name": "python3"
  },
  "language_info": {
   "codemirror_mode": {
    "name": "ipython",
    "version": 3
   },
   "file_extension": ".py",
   "mimetype": "text/x-python",
   "name": "python",
   "nbconvert_exporter": "python",
   "pygments_lexer": "ipython3",
   "version": "3.9.7"
  }
 },
 "nbformat": 4,
 "nbformat_minor": 5
}
