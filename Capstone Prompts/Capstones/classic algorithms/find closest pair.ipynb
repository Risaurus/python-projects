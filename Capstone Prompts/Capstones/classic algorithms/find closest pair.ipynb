{
 "cells": [
  {
   "cell_type": "markdown",
   "id": "b39514dd",
   "metadata": {},
   "source": [
    "## Closest pair problem\n",
    "The closest pair of points problem or closest pair problem is a problem of computational geometry: given n points in metric space, find a pair of points with the smallest distance between them."
   ]
  },
  {
   "cell_type": "code",
   "execution_count": 4,
   "id": "09d2661e",
   "metadata": {},
   "outputs": [],
   "source": [
    "def euc_dist(p1, p2):\n",
    "    x = (p2[0]-p1[0])**2\n",
    "    y = (p2[1]-p1[1])**2\n",
    "    return abs((x+y)**0.5)"
   ]
  },
  {
   "cell_type": "code",
   "execution_count": 8,
   "id": "dcf9166f",
   "metadata": {},
   "outputs": [],
   "source": [
    "def closestpair(points):\n",
    "    \"\"\"\n",
    "    takes a list of pairs and searchs for the closest points\n",
    "    returns list of the two points with the shortest distance\n",
    "    if there are two pairs that have the same distance, the first instance \n",
    "    \"\"\"\n",
    "    close_points = []\n",
    "    dist = 0\n",
    "    \n",
    "    for i in range(len(points)-1):\n",
    "        for j in range(i+1, len(points)):\n",
    "            if i == 0 and j == 1:\n",
    "                close_points.append(points[0])\n",
    "                close_points.append(points[1])\n",
    "                dist = euc_dist(points[0],points[1])\n",
    "            else:\n",
    "                temp = euc_dist(points[i],points[j])\n",
    "                if dist > temp:\n",
    "                    close_points[0] = points[i]\n",
    "                    close_points[1] = points[j]\n",
    "                    dist = temp\n",
    "                    \n",
    "    print(f\"Closest points are {close_points[0]} and {close_points[1]} with a distance of {dist}\")\n",
    "    return close_points"
   ]
  },
  {
   "cell_type": "code",
   "execution_count": 9,
   "id": "ec906f84",
   "metadata": {},
   "outputs": [],
   "source": [
    "points = [(4,3), (1,6), (3,2)]"
   ]
  },
  {
   "cell_type": "code",
   "execution_count": 10,
   "id": "d8cbb0f2",
   "metadata": {},
   "outputs": [
    {
     "name": "stdout",
     "output_type": "stream",
     "text": [
      "Closest points are (4, 3) and (3, 2) with a distance of 1.4142135623730951\n"
     ]
    },
    {
     "data": {
      "text/plain": [
       "[(4, 3), (3, 2)]"
      ]
     },
     "execution_count": 10,
     "metadata": {},
     "output_type": "execute_result"
    }
   ],
   "source": [
    "closestpair(points)"
   ]
  },
  {
   "cell_type": "code",
   "execution_count": 11,
   "id": "fbd41923",
   "metadata": {},
   "outputs": [
    {
     "name": "stdout",
     "output_type": "stream",
     "text": [
      "Closest points are (0, 1) and (2, 3) with a distance of 2.8284271247461903\n"
     ]
    },
    {
     "data": {
      "text/plain": [
       "[(0, 1), (2, 3)]"
      ]
     },
     "execution_count": 11,
     "metadata": {},
     "output_type": "execute_result"
    }
   ],
   "source": [
    "ListA = [(0,1),(2,3),(4,5)]\n",
    "closestpair(ListA)"
   ]
  },
  {
   "cell_type": "code",
   "execution_count": null,
   "id": "006b2ffc",
   "metadata": {},
   "outputs": [],
   "source": []
  }
 ],
 "metadata": {
  "kernelspec": {
   "display_name": "Python 3 (ipykernel)",
   "language": "python",
   "name": "python3"
  },
  "language_info": {
   "codemirror_mode": {
    "name": "ipython",
    "version": 3
   },
   "file_extension": ".py",
   "mimetype": "text/x-python",
   "name": "python",
   "nbconvert_exporter": "python",
   "pygments_lexer": "ipython3",
   "version": "3.9.7"
  }
 },
 "nbformat": 4,
 "nbformat_minor": 5
}
